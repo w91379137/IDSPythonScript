{
 "cells": [
  {
   "cell_type": "markdown",
   "metadata": {},
   "source": [
    "https://www.mathworks.com/help/images/ref/normxcorr2.html <br>\n",
    "<br>\n",
    "https://stackoverflow.com/questions/6991471/computing-cross-correlation-function<br>\n",
    "<br>\n",
    "https://docs.scipy.org/doc/numpy/reference/generated/numpy.correlate.html"
   ]
  },
  {
   "cell_type": "code",
   "execution_count": 1,
   "metadata": {
    "collapsed": false
   },
   "outputs": [],
   "source": [
    "import numpy as np\n",
    "\n",
    "template = np.array([-1,0,0,1,1,1,0,-1,-1,0,1,0,0,-1]).astype(np.float32)\n",
    "image = np.array([1,1,0]).astype(np.float32)"
   ]
  },
  {
   "cell_type": "code",
   "execution_count": 2,
   "metadata": {
    "collapsed": false
   },
   "outputs": [
    {
     "data": {
      "text/plain": [
       "4"
      ]
     },
     "execution_count": 2,
     "metadata": {},
     "output_type": "execute_result"
    }
   ],
   "source": [
    "def find_template_1D(image, template):\n",
    "    \n",
    "    ans = -1\n",
    "    \n",
    "    for idx in range(len(template) - len(image)):\n",
    "        \n",
    "        isSame = True\n",
    "        for check in range(len(image)):\n",
    "            isSame = (template[idx + check] == image[check])\n",
    "            if not isSame:\n",
    "                break\n",
    "    \n",
    "        if isSame:\n",
    "            ans = idx\n",
    "            break\n",
    "    \n",
    "    return ans\n",
    "\n",
    "find_template_1D(image, template)"
   ]
  },
  {
   "cell_type": "markdown",
   "metadata": {},
   "source": [
    "http://docs.opencv.org/3.2.0/d4/dc6/tutorial_py_template_matching.html<br>\n",
    "<br>\n",
    "https://stackoverflow.com/questions/5469286/how-to-get-the-index-of-a-maximum-element-in-a-numpy-array-along-one-axis"
   ]
  },
  {
   "cell_type": "code",
   "execution_count": 3,
   "metadata": {
    "collapsed": false
   },
   "outputs": [
    {
     "name": "stdout",
     "output_type": "stream",
     "text": [
      "[4]\n"
     ]
    }
   ],
   "source": [
    "import cv2\n",
    "\n",
    "arr = cv2.matchTemplate(image, template, cv2.TM_CCORR_NORMED)\n",
    "print arr.argmax(axis=0)"
   ]
  }
 ],
 "metadata": {
  "kernelspec": {
   "display_name": "Python 2",
   "language": "python",
   "name": "python2"
  },
  "language_info": {
   "codemirror_mode": {
    "name": "ipython",
    "version": 2
   },
   "file_extension": ".py",
   "mimetype": "text/x-python",
   "name": "python",
   "nbconvert_exporter": "python",
   "pygments_lexer": "ipython2",
   "version": "2.7.13"
  }
 },
 "nbformat": 4,
 "nbformat_minor": 2
}
