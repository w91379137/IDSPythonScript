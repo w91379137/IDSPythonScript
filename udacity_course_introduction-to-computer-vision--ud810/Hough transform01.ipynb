{
 "cells": [
  {
   "cell_type": "markdown",
   "metadata": {},
   "source": [
    "http://140.115.11.235/~chen/course/vision/ch8/ch8.htm"
   ]
  },
  {
   "cell_type": "code",
   "execution_count": 1,
   "metadata": {
    "collapsed": true
   },
   "outputs": [],
   "source": [
    "import numpy as np\n",
    "import math\n",
    "from matplotlib import pyplot as plt"
   ]
  },
  {
   "cell_type": "code",
   "execution_count": 2,
   "metadata": {
    "collapsed": false
   },
   "outputs": [
    {
     "data": {
      "image/png": "[encoded data removed]",
      "text/plain": [
       "<matplotlib.figure.Figure at 0x110fa5610>"
      ]
     },
     "metadata": {},
     "output_type": "display_data"
    }
   ],
   "source": [
    "'''\n",
    "y = ax + b\n",
    "在 x,y 平面\n",
    "點 (x, y)\n",
    "線 (a, b)\n",
    "\n",
    "b = -ax + y\n",
    "在 a,b 平面\n",
    "線 (x, y)\n",
    "點 (a, b)\n",
    "\n",
    "????????????\n",
    "在 x,y 平面\n",
    "點 (x, y)\n",
    "線 (d, theta)\n",
    "\n",
    "d = x * cos(theta) - y * sin(theta)\n",
    "在 d,theta 平面\n",
    "\n",
    "假設所有點都在 20, 20 之內\n",
    "'''\n",
    "\n",
    "length = 50\n",
    "\n",
    "dmax = int(math.sqrt(length * length + length * length))\n",
    "d_theta_plane = np.zeros((dmax * 2, 180), dtype = np.float32) \n",
    "    \n",
    "def draw(x, y):\n",
    "    for theta in range(180): \n",
    "        d = int(x * math.cos(theta *3.14159265358979 / 180.0 ) + y * math.sin(theta *3.14159265358979 / 180.0)) + dmax\n",
    "        d_theta_plane[d, theta] += 1\n",
    "    \n",
    "draw(-10.0, 10.0)\n",
    "draw(10.0, -10.0)\n",
    "draw(20.0, -20.0)\n",
    "draw(30.0, -30.0)\n",
    "\n",
    "plt.imshow(d_theta_plane, cmap = 'gray')\n",
    "plt.show()"
   ]
  },
  {
   "cell_type": "code",
   "execution_count": 3,
   "metadata": {
    "collapsed": false
   },
   "outputs": [
    {
     "name": "stdout",
     "output_type": "stream",
     "text": [
      "(70, 44)\n"
     ]
    }
   ],
   "source": [
    "ans = np.unravel_index(d_theta_plane.argmax(), d_theta_plane.shape)\n",
    "print ans"
   ]
  },
  {
   "cell_type": "code",
   "execution_count": null,
   "metadata": {
    "collapsed": true
   },
   "outputs": [],
   "source": []
  }
 ],
 "metadata": {
  "kernelspec": {
   "display_name": "Python 2",
   "language": "python",
   "name": "python2"
  },
  "language_info": {
   "codemirror_mode": {
    "name": "ipython",
    "version": 2
   },
   "file_extension": ".py",
   "mimetype": "text/x-python",
   "name": "python",
   "nbconvert_exporter": "python",
   "pygments_lexer": "ipython2",
   "version": "2.7.13"
  }
 },
 "nbformat": 4,
 "nbformat_minor": 2
}
