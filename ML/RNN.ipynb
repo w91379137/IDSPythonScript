{
 "cells": [
  {
   "cell_type": "markdown",
   "metadata": {
    "deletable": true,
    "editable": true
   },
   "source": [
    "http://cpmarkchang.logdown.com/posts/278457-neural-network-recurrent-neural-network"
   ]
  },
  {
   "cell_type": "code",
   "execution_count": 9,
   "metadata": {
    "collapsed": true,
    "deletable": true,
    "editable": true
   },
   "outputs": [],
   "source": [
    "from math import e                                                                                    \n",
    "import numpy as np\n",
    "\n",
    "def sigmoid(x):\n",
    "    return 1/float(1+e**(-1*x))\n",
    "\n",
    "def rand():\n",
    "    return np.random.rand(1) - 0.5\n",
    "\n",
    "def rnn(x):\n",
    "    r = 0.05\n",
    "    w_p, w_c, w_b = rand(), rand(), rand()\n",
    "    \n",
    "    l = len(x)\n",
    "    n_in = [0] * l\n",
    "    n_out = [0] * l\n",
    "    \n",
    "    for h in range(1000):\n",
    "        \n",
    "        #feedforward\n",
    "        for i in range(l - 1): \n",
    "            n_in[i] = w_c * x[i] + w_p * n_out[i] + w_b \n",
    "            n_out[i + 1] = sigmoid(n_in[i])\n",
    "            \n",
    "        #backpropagation\n",
    "        for i in range(l - 1): \n",
    "            for j in range(i + 1):\n",
    "                k =  i - j\n",
    "                \n",
    "                if j == 0:\n",
    "                    d_c = n_out[k + 1] - x[k + 1]\n",
    "                else:\n",
    "                    d_c = w_p * n_out[k + 1] * (1 - n_out[k + 1]) * d_c\n",
    "                    \n",
    "                w_c = w_c - r * d_c * x [k]\n",
    "                w_b = w_b - r * d_c\n",
    "                w_p = w_p - r * d_c * n_out[k]\n",
    "    \n",
    "    #測試輸出\n",
    "    for i in range(l - 1):\n",
    "        n_in[i] = w_c * x[i] + w_p * n_out[i] + w_b\n",
    "        n_out[i + 1] = sigmoid(n_in[i])\n",
    "        \n",
    "    for x, w in zip(x, n_out):\n",
    "        print x, w"
   ]
  },
  {
   "cell_type": "code",
   "execution_count": 10,
   "metadata": {
    "collapsed": false,
    "deletable": true,
    "editable": true
   },
   "outputs": [
    {
     "name": "stdout",
     "output_type": "stream",
     "text": [
      "0 0\n",
      "1 0.684536009672\n",
      "1 0.887873918664\n",
      "0 0.476915062548\n",
      "0 0.0134502830433\n",
      "1 0.652877472609\n",
      "1 0.91726518756\n",
      "0 0.400146838604\n",
      "0 0.0299122466652\n",
      "1 0.612233529026\n",
      "1 0.944686029249\n",
      "0 0.332621022339\n"
     ]
    }
   ],
   "source": [
    "np.random.seed(0)\n",
    "rnn([0,1,1,0,0,1,1,0,0,1,1,0])"
   ]
  },
  {
   "cell_type": "code",
   "execution_count": null,
   "metadata": {
    "collapsed": true,
    "deletable": true,
    "editable": true
   },
   "outputs": [],
   "source": []
  }
 ],
 "metadata": {
  "kernelspec": {
   "display_name": "Python 2",
   "language": "python",
   "name": "python2"
  },
  "language_info": {
   "codemirror_mode": {
    "name": "ipython",
    "version": 2
   },
   "file_extension": ".py",
   "mimetype": "text/x-python",
   "name": "python",
   "nbconvert_exporter": "python",
   "pygments_lexer": "ipython2",
   "version": "2.7.11"
  }
 },
 "nbformat": 4,
 "nbformat_minor": 2
}
