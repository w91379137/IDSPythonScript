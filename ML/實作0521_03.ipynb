{
 "cells": [
  {
   "cell_type": "code",
   "execution_count": null,
   "metadata": {
    "collapsed": true
   },
   "outputs": [],
   "source": [
    "import numpy as np\n",
    "\n",
    "#定義常用函數\n",
    "def sigmoid(z):\n",
    "    \"\"\"The sigmoid function.\"\"\"\n",
    "    return 1.0/(1.0+np.exp(-z))\n",
    "\n",
    "def sigmoid_prime(z):\n",
    "    \"\"\"Derivative of the sigmoid function.\"\"\"\n",
    "    return sigmoid(z)*(1-sigmoid(z))"
   ]
  },
  {
   "cell_type": "code",
   "execution_count": null,
   "metadata": {
    "collapsed": false
   },
   "outputs": [
    {
     "name": "stdout",
     "output_type": "stream",
     "text": [
      "[[ 66758.13482914]] 0.69332 1\n",
      "[[ 47551.84021319]] 0.88153 2\n",
      "[[ 30298.60137364]] 0.91805 3\n",
      "[[ 18667.90151896]] 0.96471 4\n",
      "[[ 13669.30827759]] 0.98903 5\n",
      "[[ 11460.64544038]] 0.99645 6\n",
      "[[ 10207.49497496]] 0.99634 7\n",
      "[[ 9374.17151209]] 0.99472 8\n",
      "[[ 8842.84946621]] 0.99242 9\n",
      "[[ 8274.81152851]] 0.99139 10\n",
      "[[ 7878.81965821]] 0.99044 11\n",
      "[[ 7410.10148567]] 0.99092 12\n",
      "[[ 7115.68555129]] 0.99033 13\n",
      "[[ 6798.55823412]] 0.99047 14\n",
      "[[ 6534.55620678]] 0.99038 15\n",
      "[[ 6322.34556858]] 0.9909 16\n"
     ]
    }
   ],
   "source": [
    "# 2 3 1 採用右乘\n",
    "\n",
    "w1 = 0.5 - np.random.rand(2, 5)\n",
    "b1 = np.zeros((1, 5))\n",
    "\n",
    "w2 = 0.5 - np.random.rand(5, 1)\n",
    "b2 = np.zeros((1, 1))\n",
    "\n",
    "loss = 0\n",
    "acc = 0\n",
    "total_test = 10000000\n",
    "to_print = total_test / 100\n",
    "eta = 0.001\n",
    "\n",
    "for i in range(total_test):\n",
    "    \n",
    "    #Data\n",
    "    x = np.random.rand(1, 2)\n",
    "    z_ = float( np.sum(x) < 1 ) #  np.sum(x) < 0.5 or np.sum(x) > 1.5\n",
    "    \n",
    "    #Feedforward\n",
    "    y1 = np.dot(x, w1) + b1\n",
    "    z1 = sigmoid(y1)\n",
    "    \n",
    "    y2 = np.dot(z1, w2) + b2\n",
    "    z2 = sigmoid(y2)\n",
    "    \n",
    "    #Loss\n",
    "    loss += -z_ * np.log(z2) - (1 - z_) * np.log(1 - z2) #Cross entropy\n",
    "    acc += float(z_ == float(z2 > 0.5))\n",
    "    if (i + 1) % to_print == 0:\n",
    "        print loss, acc / float(to_print), (i + 1) / to_print\n",
    "        loss = 0\n",
    "        acc = 0\n",
    "    \n",
    "    #Backpropagation\n",
    "    #delta2_out = -z_ / z2 + (1 - z_) / (1 - z2)\n",
    "    #delta2_in = delta2_out * sigmoid_prime(z2)\n",
    "    \n",
    "    # -z_ * (1 - z2) + (1 - z_) * z2  \n",
    "    # -z_ + z_z2 + z2 - z_z2 \n",
    "    # z2 - z_\n",
    "    delta2_in = z2 - z_\n",
    "    \n",
    "    dw2 = eta * np.dot(z1.T, delta2_in) \n",
    "    db2 = eta * np.sum(delta2_in, axis = 0)\n",
    "    \n",
    "    delta1_out = np.dot(delta2_in, w2.T)\n",
    "    delta1_in = delta1_out * sigmoid_prime(z1)\n",
    "    \n",
    "    dw1 = eta * np.dot(x.T, delta1_in) \n",
    "    db1 = eta * np.sum(delta1_in, axis = 0)\n",
    "    \n",
    "    w1 -= dw1\n",
    "    b1 -= db1\n",
    "    w2 -= dw2\n",
    "    b2 -= db2"
   ]
  }
 ],
 "metadata": {
  "kernelspec": {
   "display_name": "Python 2",
   "language": "python",
   "name": "python2"
  },
  "language_info": {
   "codemirror_mode": {
    "name": "ipython",
    "version": 2
   },
   "file_extension": ".py",
   "mimetype": "text/x-python",
   "name": "python",
   "nbconvert_exporter": "python",
   "pygments_lexer": "ipython2",
   "version": "2.7.11"
  }
 },
 "nbformat": 4,
 "nbformat_minor": 2
}
