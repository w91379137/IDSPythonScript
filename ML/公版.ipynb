{
 "cells": [
  {
   "cell_type": "code",
   "execution_count": null,
   "metadata": {
    "collapsed": true,
    "deletable": true,
    "editable": true
   },
   "outputs": [],
   "source": [
    "import numpy as np\n",
    "import matplotlib.pyplot as plt\n",
    "import math"
   ]
  },
  {
   "cell_type": "code",
   "execution_count": null,
   "metadata": {
    "collapsed": true,
    "deletable": true,
    "editable": true
   },
   "outputs": [],
   "source": [
    "#定義常用函數\n",
    "def sigmoid(z):\n",
    "    \"\"\"The sigmoid function.\"\"\"\n",
    "    return 1.0/(1.0+np.exp(-z))\n",
    "\n",
    "def sigmoid_prime(z):\n",
    "    \"\"\"Derivative of the sigmoid function.\"\"\"\n",
    "    return sigmoid(z)*(1-sigmoid(z))"
   ]
  },
  {
   "cell_type": "code",
   "execution_count": null,
   "metadata": {
    "collapsed": false,
    "deletable": true,
    "editable": true
   },
   "outputs": [],
   "source": [
    "#準備訓練資料\n",
    "x_data = np.linspace(-0.5, 0.5, 500, dtype = np.double)[:,np.newaxis]\n",
    "y_data = np.power(x_data, 1) + np.random.normal(0, 0.01, x_data.shape)"
   ]
  },
  {
   "cell_type": "code",
   "execution_count": null,
   "metadata": {
    "collapsed": true,
    "deletable": true,
    "editable": true
   },
   "outputs": [],
   "source": [
    "#學習速率\n",
    "learning_rate = 0.001\n",
    "\n",
    "def allShape(list):\n",
    "    for arr in list:\n",
    "        print(arr.shape)"
   ]
  },
  {
   "cell_type": "code",
   "execution_count": null,
   "metadata": {
    "collapsed": false,
    "deletable": true,
    "editable": true
   },
   "outputs": [],
   "source": [
    "class Network(object):\n",
    "\n",
    "    def __init__(self, sizes):\n",
    "        self.num_layers = len(sizes)\n",
    "        self.sizes = sizes\n",
    "        self.biases = [np.random.randn(1, y) for y in sizes[1:]]\n",
    "        self.weights = [np.random.randn(x, y)\n",
    "                        for x, y in zip(sizes[:-1], sizes[1:])]\n",
    "\n",
    "    def feedforward(self, a):\n",
    "        return self.feedforwardRecord(a)[-1]\n",
    "    \n",
    "    def feedforwardRecord(self, a):\n",
    "        x = [np.array([a])]\n",
    "        for b, w in zip(self.biases, self.weights):\n",
    "            a = sigmoid(np.dot(a, w) + b)\n",
    "            x.append(a)\n",
    "        return x\n",
    "        \n",
    "    def backpropagationWith(self, x, y):\n",
    "        \n",
    "        delta_out = []\n",
    "        delta_in = x[-1] - y #cross entropy loss\n",
    "        \n",
    "        dbiases = [np.dot(np.transpose(x[-1]), delta_in)]\n",
    "        dweights = [delta_in]\n",
    "        \n",
    "        for b_idx in range(self.num_layers - 2):\n",
    "            \n",
    "            idx = self.num_layers - b_idx - 2\n",
    "            \n",
    "            delta_out = np.dot(delta_in, np.transpose(self.weights[idx]))\n",
    "            \n",
    "            c_x = x[idx - 1]\n",
    "            c_w = self.weights[idx - 1]\n",
    "            c_sum = np.dot(c_x, c_w)\n",
    "            \n",
    "            delta_in = delta_out * sigmoid_prime(c_sum)\n",
    "            db = delta_in\n",
    "            dw = np.dot(np.transpose(c_x), delta_in)\n",
    "            \n",
    "            dbiases.insert(0, db)\n",
    "            dweights.insert(0, dw)\n",
    "        \n",
    "        return (dbiases, dweights)\n",
    "    \n",
    "    def updateWith(self, dbs, dws):\n",
    "        \n",
    "        new_b = []\n",
    "        for b, db in zip(self.biases, dbs):\n",
    "            new_b.append(b - learning_rate * db)\n",
    "        \n",
    "        new_w = []\n",
    "        for w, dw in zip(self.weights, dws):\n",
    "            new_w.append(w - learning_rate * dw)\n",
    "        \n",
    "        self.biases = new_b\n",
    "        self.weights = new_w"
   ]
  },
  {
   "cell_type": "code",
   "execution_count": null,
   "metadata": {
    "collapsed": false,
    "deletable": true,
    "editable": true
   },
   "outputs": [],
   "source": [
    "myNN = Network([1, 2, 3, 1])\n",
    "#print(myNN.biases, myNN.weights)"
   ]
  },
  {
   "cell_type": "code",
   "execution_count": null,
   "metadata": {
    "collapsed": false,
    "deletable": true,
    "editable": true
   },
   "outputs": [],
   "source": [
    "for _ in range(100000):\n",
    "    idx = np.random.randint(x_data.size)\n",
    "    re = myNN.feedforwardRecord(x_data[idx])\n",
    "    (dbs, dws) = myNN.backpropagationWith(re, y_data[idx])    \n",
    "    myNN.updateWith(dbs, dws)"
   ]
  },
  {
   "cell_type": "code",
   "execution_count": null,
   "metadata": {
    "collapsed": false
   },
   "outputs": [],
   "source": [
    "new_y = np.zeros(y_data.shape)\n",
    "\n",
    "index = 0\n",
    "while index < x_data.size:\n",
    "    x = x_data[index]\n",
    "    new_y[index] = myNN.feedforward(x)\n",
    "    index = index + 1"
   ]
  },
  {
   "cell_type": "code",
   "execution_count": null,
   "metadata": {
    "collapsed": false
   },
   "outputs": [],
   "source": [
    "fig = plt.figure()\n",
    "ax = fig.add_subplot(1,1,1)\n",
    "\n",
    "ax.plot(x_data, y_data,'y-', lw = 2) #原本\n",
    "ax.plot(x_data, new_y,'r-', lw = 2) #推測\n",
    "\n",
    "plt.show()"
   ]
  },
  {
   "cell_type": "code",
   "execution_count": null,
   "metadata": {
    "collapsed": true
   },
   "outputs": [],
   "source": []
  }
 ],
 "metadata": {
  "kernelspec": {
   "display_name": "Python 3",
   "language": "python",
   "name": "python3"
  },
  "language_info": {
   "codemirror_mode": {
    "name": "ipython",
    "version": 3
   },
   "file_extension": ".py",
   "mimetype": "text/x-python",
   "name": "python",
   "nbconvert_exporter": "python",
   "pygments_lexer": "ipython3",
   "version": "3.6.0"
  }
 },
 "nbformat": 4,
 "nbformat_minor": 2
}
