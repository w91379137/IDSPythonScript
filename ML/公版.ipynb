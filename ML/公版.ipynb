{
 "cells": [
  {
   "cell_type": "code",
   "execution_count": null,
   "metadata": {
    "collapsed": true,
    "deletable": true,
    "editable": true
   },
   "outputs": [],
   "source": [
    "import numpy as np\n",
    "import matplotlib.pyplot as plt\n",
    "import math"
   ]
  },
  {
   "cell_type": "code",
   "execution_count": null,
   "metadata": {
    "collapsed": true,
    "deletable": true,
    "editable": true
   },
   "outputs": [],
   "source": [
    "#定義常用函數\n",
    "def sigmoid(z):\n",
    "    \"\"\"The sigmoid function.\"\"\"\n",
    "    return 1.0/(1.0+np.exp(-z))\n",
    "\n",
    "def sigmoid_prime(z):\n",
    "    \"\"\"Derivative of the sigmoid function.\"\"\"\n",
    "    return sigmoid(z)*(1-sigmoid(z))"
   ]
  },
  {
   "cell_type": "code",
   "execution_count": null,
   "metadata": {
    "collapsed": false,
    "deletable": true,
    "editable": true
   },
   "outputs": [],
   "source": [
    "#準備訓練資料 [:,np.newaxis]增加維度\n",
    "x_data = np.linspace(0, 1, 400, dtype = np.double)[:,np.newaxis]\n",
    "\n",
    "def judgeFunction(value):\n",
    "    if value > 0.5:\n",
    "        return 1\n",
    "    return 0"
   ]
  },
  {
   "cell_type": "code",
   "execution_count": null,
   "metadata": {
    "collapsed": true,
    "deletable": true,
    "editable": true
   },
   "outputs": [],
   "source": [
    "#學習速率\n",
    "learning_rate = 0.001\n",
    "\n",
    "def allShape(list):\n",
    "    for arr in list:\n",
    "        print(arr.shape)"
   ]
  },
  {
   "cell_type": "code",
   "execution_count": null,
   "metadata": {
    "collapsed": false,
    "deletable": true,
    "editable": true
   },
   "outputs": [],
   "source": [
    "class Network(object):\n",
    "\n",
    "    def __init__(self, sizes):\n",
    "        self.num_layers = len(sizes)\n",
    "        self.sizes = sizes\n",
    "        self.biases = [np.random.randn(1, y) for y in sizes[1:]]\n",
    "        self.weights = [np.random.randn(x, y) for x, y in zip(sizes[:-1], sizes[1:])]\n",
    "\n",
    "    def feedforward(self, x):\n",
    "        (xs, _) = self.feedforwardRecord(x)\n",
    "        return xs[-1]\n",
    "    \n",
    "    def feedforwardRecord(self, x):\n",
    "        xs = [np.array(x)]\n",
    "        ss = [np.array(x)]\n",
    "        \n",
    "        for b, w in zip(self.biases, self.weights):\n",
    "            s = np.dot(x, w)\n",
    "            x = sigmoid(s + b)\n",
    "            \n",
    "            xs.append(x)\n",
    "            ss.append(s)\n",
    "        return (xs, ss)\n",
    "        \n",
    "    def backpropagationWith(self, xs, ss, y):\n",
    "        \n",
    "        delta_out = []\n",
    "        delta_in = xs[-1] - y #cross entropy loss\n",
    "        \n",
    "        dbs = [delta_in]\n",
    "        dws = [np.dot(np.transpose(xs[-1]), delta_in)]\n",
    "        \n",
    "        for idx in range(self.num_layers - 2, 0, -1):\n",
    "            \n",
    "            delta_out = np.dot(delta_in, np.transpose(self.weights[idx]))\n",
    "            delta_in = delta_out * sigmoid_prime(ss[idx - 2])\n",
    "            db = delta_in\n",
    "            dw = np.dot(np.transpose(xs[idx - 1]), delta_in)\n",
    "            \n",
    "            dbs.insert(0, db)\n",
    "            dws.insert(0, dw)\n",
    "        \n",
    "        return (dbs, dws)\n",
    "    \n",
    "    def updateWith(self, dbs, dws):\n",
    "        \n",
    "        new_b = []\n",
    "        for b, db in zip(self.biases, dbs):\n",
    "            new_b.append(b - learning_rate * db)\n",
    "        \n",
    "        new_w = []\n",
    "        for w, dw in zip(self.weights, dws):\n",
    "            new_w.append(w - learning_rate * dw)\n",
    "        \n",
    "        self.biases = new_b\n",
    "        self.weights = new_w\n",
    "        \n",
    "    def showbiasesweights(self):\n",
    "        allShape(self.biases)\n",
    "        print(self.biases)\n",
    "        allShape(self.weights)\n",
    "        print(self.weights)"
   ]
  },
  {
   "cell_type": "code",
   "execution_count": null,
   "metadata": {
    "collapsed": false,
    "deletable": true,
    "editable": true
   },
   "outputs": [],
   "source": [
    "myNN = Network([1, 2, 3, 1])\n",
    "#print(myNN.biases, myNN.weights)"
   ]
  },
  {
   "cell_type": "code",
   "execution_count": null,
   "metadata": {
    "collapsed": false,
    "deletable": true,
    "editable": true
   },
   "outputs": [],
   "source": [
    "for _ in range(1):\n",
    "    idx = np.random.randint(x_data.size)\n",
    "    (xs, ss) = myNN.feedforwardRecord(x_data[idx])\n",
    "    (dbs, dws) = myNN.backpropagationWith(xs, ss, judgeFunction(idx))\n",
    "    myNN.updateWith(dbs, dws)"
   ]
  },
  {
   "cell_type": "code",
   "execution_count": null,
   "metadata": {
    "collapsed": false,
    "deletable": true,
    "editable": true
   },
   "outputs": [],
   "source": [
    "real_y = np.zeros(x_data.shape)\n",
    "predict_y = np.zeros(x_data.shape)\n",
    "\n",
    "index = 0\n",
    "while index < x_data.size:\n",
    "    real_y[index] = judgeFunction(np.full((1, 1), x_data[index]))\n",
    "    predict_y[index] = myNN.feedforward(x_data[index])\n",
    "    index = index + 1"
   ]
  },
  {
   "cell_type": "code",
   "execution_count": null,
   "metadata": {
    "collapsed": false,
    "deletable": true,
    "editable": true
   },
   "outputs": [],
   "source": [
    "fig = plt.figure()\n",
    "ax = fig.add_subplot(1, 1, 1)\n",
    "\n",
    "ax.plot(x_data, real_y,'b-', lw = 2) #真實\n",
    "ax.plot(x_data, predict_y,'r-', lw = 2) #推測\n",
    "\n",
    "plt.show()"
   ]
  },
  {
   "cell_type": "code",
   "execution_count": null,
   "metadata": {
    "collapsed": true
   },
   "outputs": [],
   "source": []
  }
 ],
 "metadata": {
  "kernelspec": {
   "display_name": "Python 3",
   "language": "python",
   "name": "python3"
  },
  "language_info": {
   "codemirror_mode": {
    "name": "ipython",
    "version": 3
   },
   "file_extension": ".py",
   "mimetype": "text/x-python",
   "name": "python",
   "nbconvert_exporter": "python",
   "pygments_lexer": "ipython3",
   "version": "3.6.0"
  }
 },
 "nbformat": 4,
 "nbformat_minor": 2
}
