{
 "cells": [
  {
   "cell_type": "markdown",
   "metadata": {},
   "source": [
    "https://morvanzhou.github.io/tutorials/machine-learning/tensorflow/2-2-example2/"
   ]
  },
  {
   "cell_type": "code",
   "execution_count": 1,
   "metadata": {
    "collapsed": true
   },
   "outputs": [],
   "source": [
    "import tensorflow as tf\n",
    "import numpy as np"
   ]
  },
  {
   "cell_type": "code",
   "execution_count": 2,
   "metadata": {
    "collapsed": false
   },
   "outputs": [],
   "source": [
    "np.random.seed(0)\n",
    "\n",
    "#crate data\n",
    "x_data = np.random.rand(100).astype(np.float32)\n",
    "y_data = x_data * 0.1 + 0.3 + np.random.rand(100).astype(np.float32) * 0.01"
   ]
  },
  {
   "cell_type": "code",
   "execution_count": 3,
   "metadata": {
    "collapsed": false
   },
   "outputs": [
    {
     "name": "stdout",
     "output_type": "stream",
     "text": [
      "0 [-0.0737704] [ 0.52216077]\n",
      "20 [ 0.04319651] [ 0.3340458]\n",
      "40 [ 0.08534887] [ 0.31268409]\n",
      "60 [ 0.09586776] [ 0.30735338]\n",
      "80 [ 0.09849269] [ 0.30602315]\n",
      "100 [ 0.09914769] [ 0.30569118]\n",
      "120 [ 0.09931117] [ 0.30560836]\n",
      "140 [ 0.09935196] [ 0.30558768]\n",
      "160 [ 0.09936213] [ 0.30558252]\n",
      "180 [ 0.09936468] [ 0.30558124]\n",
      "200 [ 0.09936531] [ 0.30558091]\n"
     ]
    }
   ],
   "source": [
    "tf.set_random_seed(0)\n",
    "\n",
    "Weights = tf.Variable(tf.random_uniform([1], -1.0, 1.0))\n",
    "Biases = tf.Variable(tf.zeros([1]))\n",
    "\n",
    "y = Weights * x_data + Biases\n",
    "\n",
    "#指定loss 計算方式\n",
    "loss = tf.reduce_mean(tf.square(y - y_data))\n",
    "\n",
    "optimizer = tf.train.GradientDescentOptimizer(0.5)\n",
    "train = optimizer.minimize(loss)\n",
    "\n",
    "init = tf.global_variables_initializer()\n",
    "\n",
    "sess = tf.Session()\n",
    "sess.run(init)\n",
    "\n",
    "for step in range(201):\n",
    "    sess.run(train)\n",
    "    if step % 20 == 0:\n",
    "        print(step, sess.run(Weights), sess.run(Biases))"
   ]
  },
  {
   "cell_type": "code",
   "execution_count": null,
   "metadata": {
    "collapsed": true
   },
   "outputs": [],
   "source": []
  }
 ],
 "metadata": {
  "kernelspec": {
   "display_name": "Python 3",
   "language": "python",
   "name": "python3"
  },
  "language_info": {
   "codemirror_mode": {
    "name": "ipython",
    "version": 3
   },
   "file_extension": ".py",
   "mimetype": "text/x-python",
   "name": "python",
   "nbconvert_exporter": "python",
   "pygments_lexer": "ipython3",
   "version": "3.6.0"
  }
 },
 "nbformat": 4,
 "nbformat_minor": 2
}
