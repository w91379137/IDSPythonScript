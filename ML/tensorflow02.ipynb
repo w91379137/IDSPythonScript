{
 "cells": [
  {
   "cell_type": "code",
   "execution_count": 1,
   "metadata": {
    "collapsed": false
   },
   "outputs": [
    {
     "name": "stdout",
     "output_type": "stream",
     "text": [
      "7.20795\n",
      "5.11075\n",
      "3.31365\n",
      "2.82965\n",
      "2.68505\n",
      "2.42572\n",
      "2.14275\n",
      "1.93584\n",
      "1.74858\n",
      "1.56998\n",
      "1.4318\n",
      "1.37927\n",
      "1.37077\n",
      "1.2439\n",
      "1.20166\n",
      "1.14863\n",
      "1.11866\n",
      "1.05986\n",
      "1.0449\n",
      "1.00125\n",
      "0.955316\n",
      "0.931354\n",
      "0.871776\n",
      "0.896441\n",
      "0.886089\n",
      "0.861371\n",
      "0.845507\n",
      "0.835989\n",
      "0.836879\n",
      "0.832712\n"
     ]
    },
    {
     "data": {
      "image/png": "[encoded data removed]",
      "text/plain": [
       "<matplotlib.figure.Figure at 0x10a44cbd0>"
      ]
     },
     "metadata": {},
     "output_type": "display_data"
    }
   ],
   "source": [
    "import numpy as np\n",
    "import tensorflow as tf\n",
    "import matplotlib.pyplot as plt\n",
    "\n",
    "def add_layer(inputs, in_size, out_size, activation_function=None):\n",
    "    Weights = tf.Variable(tf.random_normal([in_size, out_size]))\n",
    "    biases = tf.Variable(tf.zeros([1, out_size]) + 0.1)\n",
    "    Wx_plus_b = tf.matmul(inputs, Weights) + biases #matrix multiply\n",
    "\n",
    "    if activation_function is None:\n",
    "        outputs = Wx_plus_b\n",
    "    else:\n",
    "        outputs = activation_function(Wx_plus_b)\n",
    "\n",
    "    return outputs\n",
    "\n",
    "### Create Data : poly. + noise\n",
    "x_data = np.linspace(-2,2,600)[:,np.newaxis]\n",
    "noise = np.random.normal(0,0.8,x_data.shape)\n",
    "y_data_ori = 1.5*np.power(x_data,3) + 2*np.power(x_data,2) + 1\n",
    "# y_data_ori = 2*x_data + 2 * np.sin(x_data/0.5)\n",
    "y_data = y_data_ori + noise\n",
    "\n",
    "xs = tf.placeholder(tf.float32,[None,1])\n",
    "ys = tf.placeholder(tf.float32,[None,1])\n",
    "\n",
    "### Create NN graph\n",
    "l1 = add_layer(xs, 1,  10, activation_function=tf.nn.relu)\n",
    "prediction = add_layer(l1 , 10 , 1 , activation_function=None)\n",
    "\n",
    "# Set Learning Parameter\n",
    "loss = tf.reduce_mean(tf.reduce_sum(tf.square(y_data - prediction),reduction_indices=[1]))\n",
    "train_step = tf.train.GradientDescentOptimizer(0.1).minimize(loss)\n",
    "\n",
    "# initial tensorflow variables\n",
    "init = tf.global_variables_initializer()\n",
    "\n",
    "# initial graph\n",
    "fig = plt.figure()\n",
    "ax = fig.add_subplot(1,1,1)\n",
    "ax.scatter(x_data, y_data)\n",
    "plt.ion()\n",
    "\n",
    "with tf.Session() as sess:\n",
    "    sess.run(init)\n",
    "\n",
    "    for i in range(1500):\n",
    "        sess.run(train_step, feed_dict={xs:x_data, ys:y_data})\n",
    "\n",
    "        # predict and plot the result\n",
    "        if i % 50 ==0:\n",
    "            print(sess.run(loss,feed_dict={xs:x_data, ys:y_data}))\n",
    "            try:\n",
    "                ax.lines.remove(lines[0])\n",
    "            except Exception:\n",
    "                pass\n",
    "\n",
    "            prediction_value = sess.run(prediction, feed_dict={xs: x_data})\n",
    "            # plot the prediction\n",
    "            lines = ax.plot(x_data, prediction_value, 'r-', lw=2)\n",
    "\n",
    "    lines = ax.plot(x_data, y_data_ori,'y-', lw=2)\n",
    "\n",
    "plt.show()"
   ]
  },
  {
   "cell_type": "code",
   "execution_count": null,
   "metadata": {
    "collapsed": true
   },
   "outputs": [],
   "source": []
  }
 ],
 "metadata": {
  "kernelspec": {
   "display_name": "Python 2",
   "language": "python",
   "name": "python2"
  },
  "language_info": {
   "codemirror_mode": {
    "name": "ipython",
    "version": 2
   },
   "file_extension": ".py",
   "mimetype": "text/x-python",
   "name": "python",
   "nbconvert_exporter": "python",
   "pygments_lexer": "ipython2",
   "version": "2.7.13"
  }
 },
 "nbformat": 4,
 "nbformat_minor": 2
}
