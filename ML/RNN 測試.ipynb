{
 "cells": [
  {
   "cell_type": "markdown",
   "metadata": {
    "deletable": true,
    "editable": true
   },
   "source": [
    "http://cpmarkchang.logdown.com/posts/278457-neural-network-recurrent-neural-network"
   ]
  },
  {
   "cell_type": "code",
   "execution_count": 7,
   "metadata": {
    "collapsed": false,
    "deletable": true,
    "editable": true
   },
   "outputs": [],
   "source": [
    "from math import e                                                                                    \n",
    "import numpy as np\n",
    "\n",
    "def sigmoid(x):\n",
    "    return 1.0 / (1.0 + np.exp(-x))\n",
    "\n",
    "def max_one(x):\n",
    "    return  (x == x.max()).astype(float)\n",
    "\n",
    "def rnn(x):\n",
    "    \n",
    "    r = 0.05\n",
    "    dim = x.shape[1]\n",
    "    w_p = np.random.rand(dim) - 0.5\n",
    "    w_c = np.random.rand(dim) - 0.5\n",
    "    w_b = np.random.rand(dim) - 0.5\n",
    "    \n",
    "    l = x.shape[0]\n",
    "    n_in = np.zeros((l, dim))\n",
    "    n_out = np.zeros((l, dim))\n",
    "    \n",
    "    for h in range(10000):\n",
    "        \n",
    "        #feedforward\n",
    "        for i in range(l - 1): \n",
    "            n_in[i] = w_c * x[i] + w_p * n_out[i] + w_b\n",
    "            n_out[i + 1] = sigmoid(n_in[i])\n",
    "            \n",
    "        #backpropagation\n",
    "        for i in range(l - 1): \n",
    "            for j in range(i + 1):\n",
    "                k =  i - j\n",
    "                \n",
    "                if j == 0:\n",
    "                    d_c = n_out[k + 1] - x[k + 1]\n",
    "                else:\n",
    "                    d_c = w_p * n_out[k + 1] * (1 - n_out[k + 1]) * d_c\n",
    "                    \n",
    "                w_c = w_c - r * d_c * x [k]\n",
    "                w_b = w_b - r * d_c\n",
    "                w_p = w_p - r * d_c * n_out[k]\n",
    "    \n",
    "    #測試輸出\n",
    "    for i in range(l - 1):\n",
    "        n_in[i] = w_c * x[i] + w_p * n_out[i] + w_b\n",
    "        n_out[i + 1] = sigmoid(n_in[i])\n",
    "        \n",
    "    for x, w in zip(x,n_out):\n",
    "        print x, max_one(w)"
   ]
  },
  {
   "cell_type": "code",
   "execution_count": 8,
   "metadata": {
    "collapsed": false,
    "deletable": true,
    "editable": true
   },
   "outputs": [
    {
     "name": "stdout",
     "output_type": "stream",
     "text": [
      "[ 1.  0.  0.  0.  0.] [ 1.  1.  1.  1.  1.]\n",
      "[ 0.  1.  0.  0.  0.] [ 0.  1.  0.  0.  0.]\n",
      "[ 0.  0.  1.  0.  0.] [ 0.  0.  1.  0.  0.]\n",
      "[ 0.  0.  0.  1.  0.] [ 0.  0.  0.  0.  1.]\n",
      "[ 0.  0.  0.  0.  1.] [ 0.  0.  0.  0.  1.]\n",
      "[ 1.  0.  0.  0.  0.] [ 1.  0.  0.  0.  0.]\n",
      "[ 0.  1.  0.  0.  0.] [ 0.  1.  0.  0.  0.]\n",
      "[ 0.  0.  1.  0.  0.] [ 0.  0.  1.  0.  0.]\n",
      "[ 0.  0.  0.  1.  0.] [ 0.  0.  0.  1.  0.]\n",
      "[ 0.  0.  0.  0.  1.] [ 0.  0.  0.  0.  1.]\n",
      "[ 1.  0.  0.  0.  0.] [ 1.  0.  0.  0.  0.]\n",
      "[ 0.  1.  0.  0.  0.] [ 0.  1.  0.  0.  0.]\n",
      "[ 0.  0.  1.  0.  0.] [ 0.  0.  1.  0.  0.]\n",
      "[ 0.  0.  0.  1.  0.] [ 0.  0.  0.  1.  0.]\n",
      "[ 0.  0.  0.  0.  1.] [ 0.  0.  0.  0.  1.]\n"
     ]
    }
   ],
   "source": [
    "np.random.seed(0)\n",
    "\n",
    "# 預計 n 個字詞 輪流出現 a b c a b c a b c ...\n",
    "\n",
    "n = 5\n",
    "loop = 3\n",
    "x = np.zeros((n * loop, n))\n",
    "\n",
    "for index_loop in range(loop):\n",
    "    for index_n in range(n):\n",
    "        x[index_loop * n + index_n, index_n] = 1\n",
    "\n",
    "rnn(x)"
   ]
  },
  {
   "cell_type": "code",
   "execution_count": null,
   "metadata": {
    "collapsed": true,
    "deletable": true,
    "editable": true
   },
   "outputs": [],
   "source": []
  }
 ],
 "metadata": {
  "kernelspec": {
   "display_name": "Python 2",
   "language": "python",
   "name": "python2"
  },
  "language_info": {
   "codemirror_mode": {
    "name": "ipython",
    "version": 2
   },
   "file_extension": ".py",
   "mimetype": "text/x-python",
   "name": "python",
   "nbconvert_exporter": "python",
   "pygments_lexer": "ipython2",
   "version": "2.7.11"
  }
 },
 "nbformat": 4,
 "nbformat_minor": 2
}
