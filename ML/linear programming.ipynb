{
 "cells": [
  {
   "cell_type": "markdown",
   "metadata": {
    "deletable": true,
    "editable": true
   },
   "source": [
    "http://eshare.stust.edu.tw/EshareFile/2011_10/2011_10_f2c636fa.pdf"
   ]
  },
  {
   "cell_type": "code",
   "execution_count": 1,
   "metadata": {
    "collapsed": false,
    "deletable": true,
    "editable": true
   },
   "outputs": [],
   "source": [
    "import numpy as np\n",
    "from scipy.optimize import linprog"
   ]
  },
  {
   "cell_type": "code",
   "execution_count": 2,
   "metadata": {
    "collapsed": true,
    "deletable": true,
    "editable": true
   },
   "outputs": [],
   "source": [
    "c = [-1, -1.2]\n",
    "A_ub = [[2, 1], \n",
    "        [1, 3]]\n",
    "b_ub = [180, 300]\n",
    "x0_b = [0, None]\n",
    "x1_b = [0, None]"
   ]
  },
  {
   "cell_type": "code",
   "execution_count": 3,
   "metadata": {
    "collapsed": false,
    "deletable": true,
    "editable": true
   },
   "outputs": [
    {
     "name": "stdout",
     "output_type": "stream",
     "text": [
      "Optimization terminated successfully.\n",
      "         Current function value: -148.800000 \n",
      "         Iterations: 2\n"
     ]
    }
   ],
   "source": [
    "res = linprog(c,\n",
    "              A_ub=A_ub, \n",
    "              b_ub=b_ub, \n",
    "              bounds=(x0_b, x1_b), \n",
    "              options={\"disp\": True})"
   ]
  },
  {
   "cell_type": "code",
   "execution_count": 4,
   "metadata": {
    "collapsed": true,
    "deletable": true,
    "editable": true
   },
   "outputs": [],
   "source": [
    "c = [-1, -1.2, 0, 0]\n",
    "A_eq = [[2, 1, 1, 0], \n",
    "        [1, 3, 0, 1]]\n",
    "b_eq = [180, 300]\n",
    "x0_b = [0, None]\n",
    "x1_b = [0, None]\n",
    "x2_b = [0, None]\n",
    "x3_b = [0, None]"
   ]
  },
  {
   "cell_type": "code",
   "execution_count": 5,
   "metadata": {
    "collapsed": false,
    "deletable": true,
    "editable": true
   },
   "outputs": [
    {
     "name": "stdout",
     "output_type": "stream",
     "text": [
      "Optimization terminated successfully.\n",
      "         Current function value: -148.800000 \n",
      "         Iterations: 2\n"
     ]
    }
   ],
   "source": [
    "res = linprog(c,\n",
    "              A_eq=A_eq, \n",
    "              b_eq=b_eq, \n",
    "              bounds=(x0_b, x1_b, x2_b, x3_b), \n",
    "              options={\"disp\": True})"
   ]
  },
  {
   "cell_type": "code",
   "execution_count": 6,
   "metadata": {
    "collapsed": true,
    "deletable": true,
    "editable": true
   },
   "outputs": [],
   "source": [
    "def myLinprog(c,\n",
    "              A_eq=None,\n",
    "              b_eq=None):\n",
    "    '''\n",
    "    亂寫\n",
    "    '''\n",
    "    pass"
   ]
  },
  {
   "cell_type": "code",
   "execution_count": 12,
   "metadata": {
    "collapsed": false,
    "deletable": true,
    "editable": true
   },
   "outputs": [
    {
     "name": "stdout",
     "output_type": "stream",
     "text": [
      "發現 index: 0 value: -4.0\n",
      "所有的 ratio: [8.0, 5.0]\n",
      "使用代換的eq: 1\n",
      "調整倍數:\n",
      " [[ 1.   1.   1.   0. ]\n",
      " [ 1.   0.5  0.   0.5]]\n",
      "調整倍數: [ 8.  5.]\n",
      "加減消去:\n",
      " [[ 0.   0.5  1.  -0.5]\n",
      " [ 1.   0.5  0.   0.5]]\n",
      "加減消去: [ 3.  5.]\n",
      "加減消去: [ 0.  0.  0.  2.]\n",
      "目前累計: -20.0\n",
      "=====.=====.=====.=====\n",
      "答案: -20.0\n"
     ]
    }
   ],
   "source": [
    "# 單一解\n",
    "# c = [-1, -1.2, 0, 0]\n",
    "# c = np.array(c).astype(np.float)\n",
    "\n",
    "# A_eq = [[2, 1, 1, 0], \n",
    "#         [1, 3, 0, 1]]\n",
    "# A_eq = np.array(A_eq).astype(np.float)\n",
    "\n",
    "# b_eq = [180, 300]\n",
    "# b_eq = np.array(b_eq).astype(np.float)\n",
    "\n",
    "# ans = 0\n",
    "\n",
    "# unbounded解\n",
    "# c = [-3, -2, 0, 0]\n",
    "# c = np.array(c).astype(np.float)\n",
    "\n",
    "# A_eq = [[1, -1, 1, 0], \n",
    "#         [1, 0, 0, 1]]\n",
    "# A_eq = np.array(A_eq).astype(np.float)\n",
    "\n",
    "# b_eq = [3, 2]\n",
    "# b_eq = np.array(b_eq).astype(np.float)\n",
    "\n",
    "# ans = 0\n",
    "\n",
    "# 無限多解\n",
    "c = [-4, -2, 0, 0]\n",
    "c = np.array(c).astype(np.float)\n",
    "\n",
    "A_eq = [[1, 1, 1, 0], \n",
    "        [2, 1, 0, 1]]\n",
    "A_eq = np.array(A_eq).astype(np.float)\n",
    "\n",
    "b_eq = [8, 10]\n",
    "b_eq = np.array(b_eq).astype(np.float)\n",
    "\n",
    "ans = 0\n",
    "\n",
    "# 無解還沒測試\n",
    "\n",
    "while c.min() < 0:\n",
    "    \n",
    "    index_var = c.argmin()\n",
    "    print('發現 index:', index_var, 'value:', c.min())\n",
    "    \n",
    "    ratios = []\n",
    "    for eq in range(b_eq.shape[0]):\n",
    "        if A_eq[eq, index_var] != 0:\n",
    "            ratios.append(b_eq[eq] / A_eq[eq, index_var])\n",
    "    print('所有的 ratio:', ratios)\n",
    "    \n",
    "    try:\n",
    "        ratio = min(v for v in ratios if v > 0)\n",
    "    except:\n",
    "        print('unbounded')\n",
    "        break\n",
    "    \n",
    "    index_eq = np.where( ratios==ratio )[0][0]\n",
    "    print('使用代換的eq:', index_eq)\n",
    "    \n",
    "    scale = 1 / A_eq[index_eq, index_var]\n",
    "    A_eq[index_eq, :] = A_eq[index_eq, :] * scale \n",
    "    b_eq[index_eq] = b_eq[index_eq] * scale \n",
    "    print('調整倍數:\\n', A_eq)\n",
    "    print('調整倍數:', b_eq)\n",
    "    \n",
    "    for eq in range(A_eq.shape[0]):\n",
    "        if eq != index_eq:\n",
    "            scale = A_eq[eq, index_var]\n",
    "            A_eq[eq, :] = A_eq[eq, :] - A_eq[index_eq, :] * scale\n",
    "            b_eq[eq] = b_eq[eq] - b_eq[index_eq]* scale\n",
    "            \n",
    "    print('加減消去:\\n', A_eq)\n",
    "    print('加減消去:', b_eq)\n",
    "    \n",
    "    scale = c[index_var]\n",
    "    c = c - scale * A_eq[index_eq]\n",
    "    ans = ans - scale * b_eq[index_eq]\n",
    "    print('加減消去:', c)\n",
    "    print('目前累計:', -ans)\n",
    "    print('=====.=====.=====.=====')\n",
    "    \n",
    "print('答案:', -ans)"
   ]
  },
  {
   "cell_type": "code",
   "execution_count": null,
   "metadata": {
    "collapsed": true,
    "deletable": true,
    "editable": true
   },
   "outputs": [],
   "source": []
  }
 ],
 "metadata": {
  "kernelspec": {
   "display_name": "Python 3",
   "language": "python",
   "name": "python3"
  },
  "language_info": {
   "codemirror_mode": {
    "name": "ipython",
    "version": 3
   },
   "file_extension": ".py",
   "mimetype": "text/x-python",
   "name": "python",
   "nbconvert_exporter": "python",
   "pygments_lexer": "ipython3",
   "version": "3.6.1"
  }
 },
 "nbformat": 4,
 "nbformat_minor": 2
}
