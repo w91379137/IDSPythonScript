{
 "cells": [
  {
   "cell_type": "markdown",
   "metadata": {
    "deletable": true,
    "editable": true
   },
   "source": [
    "實作向前計算<br>\n",
    "實作修正的部分<br>\n",
    "程式參考<br>\n",
    "http://ihong-blog.logdown.com/posts/400961-neural-networks-artificial-nueral-network\n",
    "\n",
    "算式參考<br>\n",
    "http://cpmarkchang.logdown.com/posts/277349-neural-network-backward-propagation"
   ]
  },
  {
   "cell_type": "code",
   "execution_count": null,
   "metadata": {
    "collapsed": false,
    "deletable": true,
    "editable": true
   },
   "outputs": [],
   "source": [
    "import random\n",
    "import numpy as np\n",
    "import matplotlib.pyplot as plt"
   ]
  },
  {
   "cell_type": "code",
   "execution_count": null,
   "metadata": {
    "collapsed": true,
    "deletable": true,
    "editable": true
   },
   "outputs": [],
   "source": [
    "#定義常用函數\n",
    "def sigmoid(z):\n",
    "    \"\"\"The sigmoid function.\"\"\"\n",
    "    return 1.0/(1.0+np.exp(-z))\n",
    "\n",
    "def sigmoid_prime(z):\n",
    "    \"\"\"Derivative of the sigmoid function.\"\"\"\n",
    "    return sigmoid(z)*(1-sigmoid(z))"
   ]
  },
  {
   "cell_type": "code",
   "execution_count": null,
   "metadata": {
    "collapsed": true,
    "deletable": true,
    "editable": true
   },
   "outputs": [],
   "source": [
    "#準備訓練資料\n",
    "x_data = np.linspace(-2, 2, 600)[:,np.newaxis]\n",
    "\n",
    "#y_data_ori = -3 * x_data #一次函數\n",
    "y_data_ori = -3 * np.power(x_data, 2) #二次函數\n",
    "#y_data_ori = 2 * np.power(x_data, 3) + 4 * np.power(x_data, 2) #三次函數\n",
    "\n",
    "y_data = y_data_ori + np.random.normal(0, 0.5, x_data.shape)"
   ]
  },
  {
   "cell_type": "code",
   "execution_count": null,
   "metadata": {
    "collapsed": false,
    "deletable": true,
    "editable": true
   },
   "outputs": [],
   "source": [
    "#顯示目前資料\n",
    "fig = plt.figure()\n",
    "ax = fig.add_subplot(1,1,1)\n",
    "\n",
    "ax.scatter(x_data, y_data) #輸入有雜訊的資料\n",
    "ax.plot(x_data, y_data_ori,'y-', lw = 2) #目標函數\n",
    "\n",
    "plt.show()"
   ]
  },
  {
   "cell_type": "markdown",
   "metadata": {
    "deletable": true,
    "editable": true
   },
   "source": [
    "做一個 1 * 5 * 1 的組合<br>\n",
    "決定有幾個變數<br>\n",
    "第一層 輸入一個值<br>\n",
    "第一層 到 第二層 會有 5個w 5個b<br>\n",
    "第二層 到 第三層 會有 5個w 5個b<br>"
   ]
  },
  {
   "cell_type": "code",
   "execution_count": null,
   "metadata": {
    "collapsed": false,
    "deletable": true,
    "editable": true
   },
   "outputs": [],
   "source": [
    "#初始值\n",
    "w12 = np.linspace(1,2,5)\n",
    "b12 = np.linspace(1,2,5)\n",
    "w23 = np.linspace(1,2,5)\n",
    "b23 = 0.3\n",
    "\n",
    "#學習速率\n",
    "learning_rate = 0.01"
   ]
  },
  {
   "cell_type": "code",
   "execution_count": null,
   "metadata": {
    "collapsed": false,
    "deletable": true,
    "editable": true
   },
   "outputs": [],
   "source": [
    "index = 0\n",
    "while index < x_data.size * 10:\n",
    "        \n",
    "    map_index = np.random.randint(x_data.size)# (index * 7) % x_data.size #乘上某個倍數打破資料的順序性\n",
    "    \n",
    "    #進行各值的運算\n",
    "    x_input = x_data[map_index]\n",
    "    \n",
    "    sum1 = x_input * w12 + b12\n",
    "    active1 = sigmoid(sum1)\n",
    "    sum2 = np.sum(active1 * w23 + b23)\n",
    "    active2 = sum2\n",
    "    \n",
    "    hat_y = active2\n",
    "    real_y = y_data[map_index]\n",
    "    \n",
    "    #準備BP for w23 b23\n",
    "    delta_23 = 2 * (hat_y - real_y)\n",
    "    gradient_w23 = delta_23 * active1\n",
    "    gradient_b23 = delta_23\n",
    "    \n",
    "    #準備BP for w12 b12\n",
    "    delta_12 = delta_23 * w23 * sigmoid_prime(sum1)\n",
    "    gradient_w12 = delta_12 * x_input\n",
    "    gradient_b12 = delta_12\n",
    "    \n",
    "    #更新\n",
    "    w23 = w23 + (gradient_w23 * -1 * learning_rate)\n",
    "    b23 = b23 + (gradient_b23 * -1 * learning_rate)\n",
    "    w12 = w12 + (gradient_w12 * -1 * learning_rate)\n",
    "    b12 = b12 + (gradient_b12 * -1 * learning_rate)\n",
    "    \n",
    "    index = index + 1\n",
    "\n",
    "print('Finish', x_data.size, 'read')"
   ]
  },
  {
   "cell_type": "code",
   "execution_count": null,
   "metadata": {
    "collapsed": false
   },
   "outputs": [],
   "source": [
    "new_y = np.zeros((600, 1))\n",
    "\n",
    "index = 0\n",
    "while index < x_data.size:\n",
    "    \n",
    "    x_input = x_data[index]\n",
    "    sum1 = x_input * w12 + b12\n",
    "    active1 = sigmoid(sum1)\n",
    "    sum2 = np.sum(active1 * w23 + b23)\n",
    "    new_y[index] = sum2\n",
    "    \n",
    "    index = index + 1\n",
    "    \n",
    "print('Finish')"
   ]
  },
  {
   "cell_type": "code",
   "execution_count": null,
   "metadata": {
    "collapsed": false
   },
   "outputs": [],
   "source": [
    "fig = plt.figure()\n",
    "ax = fig.add_subplot(1,1,1)\n",
    "\n",
    "ax.scatter(x_data, y_data)\n",
    "ax.plot(x_data, y_data_ori,'y-', lw = 2)\n",
    "ax.plot(x_data, new_y,'r-', lw = 2)\n",
    "\n",
    "plt.show()"
   ]
  },
  {
   "cell_type": "code",
   "execution_count": null,
   "metadata": {
    "collapsed": true
   },
   "outputs": [],
   "source": []
  }
 ],
 "metadata": {
  "kernelspec": {
   "display_name": "Python 3",
   "language": "python",
   "name": "python3"
  },
  "language_info": {
   "codemirror_mode": {
    "name": "ipython",
    "version": 3
   },
   "file_extension": ".py",
   "mimetype": "text/x-python",
   "name": "python",
   "nbconvert_exporter": "python",
   "pygments_lexer": "ipython3",
   "version": "3.6.0"
  }
 },
 "nbformat": 4,
 "nbformat_minor": 2
}
