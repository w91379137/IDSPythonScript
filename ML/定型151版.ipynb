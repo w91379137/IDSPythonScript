{
 "cells": [
  {
   "cell_type": "markdown",
   "metadata": {
    "deletable": true,
    "editable": true
   },
   "source": [
    "實作向前計算<br>\n",
    "實作修正的部分<br>\n",
    "程式參考<br>\n",
    "http://ihong-blog.logdown.com/posts/400961-neural-networks-artificial-nueral-network\n",
    "\n",
    "算式參考<br>\n",
    "http://cpmarkchang.logdown.com/posts/277349-neural-network-backward-propagation"
   ]
  },
  {
   "cell_type": "code",
   "execution_count": null,
   "metadata": {
    "collapsed": false,
    "deletable": true,
    "editable": true
   },
   "outputs": [],
   "source": [
    "import random\n",
    "import numpy as np\n",
    "import matplotlib.pyplot as plt"
   ]
  },
  {
   "cell_type": "code",
   "execution_count": null,
   "metadata": {
    "collapsed": true,
    "deletable": true,
    "editable": true
   },
   "outputs": [],
   "source": [
    "#定義常用函數\n",
    "def sigmoid(z):\n",
    "    \"\"\"The sigmoid function.\"\"\"\n",
    "    return 1.0/(1.0+np.exp(-z))\n",
    "\n",
    "def sigmoid_prime(z):\n",
    "    \"\"\"Derivative of the sigmoid function.\"\"\"\n",
    "    return sigmoid(z)*(1-sigmoid(z))"
   ]
  },
  {
   "cell_type": "code",
   "execution_count": null,
   "metadata": {
    "collapsed": true,
    "deletable": true,
    "editable": true
   },
   "outputs": [],
   "source": [
    "#準備訓練資料\n",
    "x_data = np.linspace(-2,2,600)[:,np.newaxis]\n",
    "noise = np.random.normal(0,0.8,x_data.shape)\n",
    "y_data_ori = 1.5*np.power(x_data,3) + 2*np.power(x_data,2) + 1\n",
    "y_data = y_data_ori + noise"
   ]
  },
  {
   "cell_type": "code",
   "execution_count": null,
   "metadata": {
    "collapsed": false,
    "deletable": true,
    "editable": true
   },
   "outputs": [],
   "source": [
    "#顯示目前資料\n",
    "fig = plt.figure()\n",
    "\n",
    "#輸入有雜訊的資料\n",
    "ax = fig.add_subplot(1,1,1)\n",
    "ax.scatter(x_data, y_data)\n",
    "plt.ion()\n",
    "\n",
    "#目標函數\n",
    "lines = ax.plot(x_data, y_data_ori,'y-', lw=2)\n",
    "plt.show()"
   ]
  },
  {
   "cell_type": "markdown",
   "metadata": {},
   "source": [
    "做一個 1 * 5 * 1 的組合<br>\n",
    "決定有幾個變數<br>\n",
    "第一層 輸入一個值<br>\n",
    "第一層 到 第二層 會有 5個w 5個b<br>\n",
    "第二層 到 第三層 會有 5個w 5個b<br>"
   ]
  },
  {
   "cell_type": "code",
   "execution_count": null,
   "metadata": {
    "collapsed": false
   },
   "outputs": [],
   "source": [
    "w12 = np.linspace(1,5,5)\n",
    "b12 = np.linspace(1,5,5)\n",
    "w23 = np.linspace(1,5,5)\n",
    "b23 = np.linspace(1,5,5)"
   ]
  },
  {
   "cell_type": "code",
   "execution_count": null,
   "metadata": {
    "collapsed": false
   },
   "outputs": [],
   "source": [
    "#進行各值的運算\n",
    "index = 599\n",
    "sum1 = x_data[index] * w12 + b12\n",
    "active1 = sigmoid(sum1)\n",
    "sum2 = active1 * w23 + b23\n",
    "active2 = sigmoid(np.sum(sum2))\n",
    "err = np.power(y_data[index] - active2, 2)\n",
    "print(err)"
   ]
  },
  {
   "cell_type": "code",
   "execution_count": null,
   "metadata": {
    "collapsed": true
   },
   "outputs": [],
   "source": []
  }
 ],
 "metadata": {
  "kernelspec": {
   "display_name": "Python 3",
   "language": "python",
   "name": "python3"
  },
  "language_info": {
   "codemirror_mode": {
    "name": "ipython",
    "version": 3
   },
   "file_extension": ".py",
   "mimetype": "text/x-python",
   "name": "python",
   "nbconvert_exporter": "python",
   "pygments_lexer": "ipython3",
   "version": "3.6.0"
  }
 },
 "nbformat": 4,
 "nbformat_minor": 2
}
