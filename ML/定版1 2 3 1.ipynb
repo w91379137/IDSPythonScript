{
 "cells": [
  {
   "cell_type": "markdown",
   "metadata": {},
   "source": [
    "實作標準矩陣運算<br>\n",
    "暫時移除非線性的計算<br>\n",
    "層數到達 4 層<br>\n",
    "訓練 為 y = x<br>\n",
    "<br>\n",
    "輸入 1維資料<br>\n",
    "第一層 2<br>\n",
    "第二層 3<br>\n",
    "輸出 1維資料<br>\n",
    "<br>\n",
    "採用 右乘法 x * w<br>"
   ]
  },
  {
   "cell_type": "code",
   "execution_count": null,
   "metadata": {
    "collapsed": true
   },
   "outputs": [],
   "source": [
    "import numpy as np\n",
    "import matplotlib.pyplot as plt"
   ]
  },
  {
   "cell_type": "code",
   "execution_count": null,
   "metadata": {
    "collapsed": false
   },
   "outputs": [],
   "source": [
    "#準備訓練資料\n",
    "x_data = np.linspace(1, 100, 100)[:,np.newaxis]\n",
    "x_data.astype(float)\n",
    "y_data = x_data"
   ]
  },
  {
   "cell_type": "code",
   "execution_count": null,
   "metadata": {
    "collapsed": true
   },
   "outputs": [],
   "source": [
    "#學習速率\n",
    "learning_rate = 0.001"
   ]
  },
  {
   "cell_type": "code",
   "execution_count": null,
   "metadata": {
    "collapsed": false
   },
   "outputs": [],
   "source": [
    "#初始值\n",
    "w1 = np.random.rand(1,2)\n",
    "b1 = np.random.rand(1,2)\n",
    "\n",
    "w2 = np.random.rand(2,3)\n",
    "b2 = np.random.rand(1,3)\n",
    "\n",
    "w3 = np.random.rand(3,1)\n",
    "b3 = np.random.rand(1,1)"
   ]
  },
  {
   "cell_type": "code",
   "execution_count": null,
   "metadata": {
    "collapsed": false
   },
   "outputs": [],
   "source": [
    "index = 0\n",
    "\n",
    "while index < x_data.size:\n",
    "    map_index = np.random.randint(x_data.size)\n",
    "    \n",
    "#map_index = index\n",
    "    \n",
    "    #Feedforward\n",
    "    x0 = x_data[map_index] #11\n",
    "\n",
    "    s1 = np.add(np.dot(x0, w1), b1) #12\n",
    "    x1 = s1 #12\n",
    "\n",
    "    s2 = np.add(np.dot(x1, w2), b2) #13\n",
    "    x2 = s2 #13\n",
    "\n",
    "    s3 = np.add(np.dot(x2, w3), b3) #11\n",
    "    x3 = s3 #11\n",
    "\n",
    "    ans = y_data[map_index] #11\n",
    "\n",
    "    #Backpropagation\n",
    "    \n",
    "    #準備BP for w3 b3\n",
    "    delta_3 = 2 * (x3 - ans) #11\n",
    "    gradient_w3 = delta_3 * np.transpose(x2) #31\n",
    "    gradient_b3 = delta_3 #11\n",
    "\n",
    "    #準備BP for w2 b2\n",
    "    delta_2 = np.dot(delta_3, np.transpose(w3)) #13\n",
    "    gradient_w2 = np.dot(np.transpose(x1), delta_2) #23\n",
    "    gradient_b2 = delta_2 #13\n",
    "\n",
    "    #準備BP for w1 b1\n",
    "    delta_1 = np.dot(delta_2, np.transpose(w2)) #12\n",
    "    gradient_w1 = np.dot(np.transpose(x0), delta_1) #12\n",
    "    gradient_b1 = delta_1 #12\n",
    "\n",
    "    #更新\n",
    "    w3 = w3 + (gradient_w3 * -1 * learning_rate)\n",
    "    b3 = b3 + (gradient_b3 * -1 * learning_rate)\n",
    "    w2 = w2 + (gradient_w2 * -1 * learning_rate)\n",
    "    b2 = b2 + (gradient_b2 * -1 * learning_rate)\n",
    "    w1 = w1 + (gradient_w1 * -1 * learning_rate)\n",
    "    b1 = b1 + (gradient_b1 * -1 * learning_rate)\n",
    "    \n",
    "    index = index + 1\n",
    "\n",
    "print('Finish', x_data.size, 'read')"
   ]
  },
  {
   "cell_type": "code",
   "execution_count": null,
   "metadata": {
    "collapsed": false
   },
   "outputs": [],
   "source": [
    "new_y = np.zeros((100, 1))\n",
    "\n",
    "index = 0\n",
    "while index < x_data.size:\n",
    "    \n",
    "    x0 = x_data[index] #11\n",
    "\n",
    "    s1 = np.add(np.dot(x0, w1), b1) #12\n",
    "    x1 = s1 #12\n",
    "\n",
    "    s2 = np.add(np.dot(x1, w2), b2) #13\n",
    "    x2 = s2 #13\n",
    "\n",
    "    s3 = np.add(np.dot(x2, w3), b3) #11\n",
    "    x3 = s3 #11\n",
    "\n",
    "    ans = y_data[map_index] #11\n",
    "    \n",
    "    index = index + 1\n",
    "    \n",
    "print('Finish')"
   ]
  },
  {
   "cell_type": "code",
   "execution_count": null,
   "metadata": {
    "collapsed": false
   },
   "outputs": [],
   "source": [
    "fig = plt.figure()\n",
    "ax = fig.add_subplot(1,1,1)\n",
    "\n",
    "ax.plot(x_data, y_data,'y-', lw = 2)\n",
    "ax.plot(x_data, new_y,'r-', lw = 2)\n",
    "\n",
    "plt.show()"
   ]
  },
  {
   "cell_type": "code",
   "execution_count": null,
   "metadata": {
    "collapsed": true
   },
   "outputs": [],
   "source": []
  }
 ],
 "metadata": {
  "kernelspec": {
   "display_name": "Python 3",
   "language": "python",
   "name": "python3"
  },
  "language_info": {
   "codemirror_mode": {
    "name": "ipython",
    "version": 3
   },
   "file_extension": ".py",
   "mimetype": "text/x-python",
   "name": "python",
   "nbconvert_exporter": "python",
   "pygments_lexer": "ipython3",
   "version": "3.6.0"
  }
 },
 "nbformat": 4,
 "nbformat_minor": 2
}
