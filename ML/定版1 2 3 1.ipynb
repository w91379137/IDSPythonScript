{
 "cells": [
  {
   "cell_type": "markdown",
   "metadata": {
    "deletable": true,
    "editable": true
   },
   "source": [
    "實作標準矩陣運算<br>\n",
    "暫時移除非線性的計算<br>\n",
    "層數 4 層<br>\n",
    "訓練 為 y = x<br>\n",
    "<br>\n",
    "輸入 1維資料<br>\n",
    "第一層 2<br>\n",
    "第二層 3<br>\n",
    "輸出 1維資料<br>\n",
    "<br>\n",
    "採用 右乘法 x * w<br>\n",
    "<br>\n",
    "np.seterrcall(func)"
   ]
  },
  {
   "cell_type": "code",
   "execution_count": null,
   "metadata": {
    "collapsed": true,
    "deletable": true,
    "editable": true
   },
   "outputs": [],
   "source": [
    "import numpy as np\n",
    "import matplotlib.pyplot as plt\n",
    "import math"
   ]
  },
  {
   "cell_type": "code",
   "execution_count": null,
   "metadata": {
    "collapsed": true
   },
   "outputs": [],
   "source": [
    "#定義常用函數\n",
    "def sigmoid(z):\n",
    "    \"\"\"The sigmoid function.\"\"\"\n",
    "    return 1.0/(1.0+np.exp(-z))\n",
    "\n",
    "def sigmoid_prime(z):\n",
    "    \"\"\"Derivative of the sigmoid function.\"\"\"\n",
    "    return sigmoid(z)*(1-sigmoid(z))"
   ]
  },
  {
   "cell_type": "code",
   "execution_count": null,
   "metadata": {
    "collapsed": false,
    "deletable": true,
    "editable": true
   },
   "outputs": [],
   "source": [
    "#準備訓練資料\n",
    "x_data = np.linspace(-2, 2, 100, dtype = np.double)[:,np.newaxis]\n",
    "y_data = x_data.copy() + np.random.normal(0, 0.1, x_data.shape) #np.power(x_data, 2) #"
   ]
  },
  {
   "cell_type": "code",
   "execution_count": null,
   "metadata": {
    "collapsed": true,
    "deletable": true,
    "editable": true
   },
   "outputs": [],
   "source": [
    "#學習速率\n",
    "learning_rate = 0.001"
   ]
  },
  {
   "cell_type": "code",
   "execution_count": null,
   "metadata": {
    "collapsed": false,
    "deletable": true,
    "editable": true
   },
   "outputs": [],
   "source": [
    "#初始值\n",
    "b1 = np.random.rand(1,2)\n",
    "w1 = np.random.rand(1,2)\n",
    "\n",
    "b2 = np.random.rand(1,3)\n",
    "w2 = np.random.rand(2,3)\n",
    "\n",
    "b3 = np.random.rand(1,1)\n",
    "w3 = np.random.rand(3,1)"
   ]
  },
  {
   "cell_type": "code",
   "execution_count": null,
   "metadata": {
    "collapsed": false,
    "deletable": true,
    "editable": true
   },
   "outputs": [],
   "source": [
    "index = 0\n",
    "\n",
    "batch = 1\n",
    "temp_gradient_b3 = np.zeros(b3.shape)\n",
    "temp_gradient_w3 = np.zeros(w3.shape)\n",
    "\n",
    "temp_gradient_b2 = np.zeros(b2.shape)\n",
    "temp_gradient_w2 = np.zeros(w2.shape)\n",
    "\n",
    "temp_gradient_b1 = np.zeros(b1.shape)\n",
    "temp_gradient_w1 = np.zeros(w1.shape)\n",
    "\n",
    "while index < x_data.size * 10: \n",
    "    #x_data.size\n",
    "    \n",
    "    map_index = np.random.randint(x_data.size)\n",
    "    #map_index = 0\n",
    "    #map_index = index\n",
    "    \n",
    "    #Feedforward\n",
    "    x1 = x_data[map_index] #11\n",
    "    s1 = np.dot(x1, w1) + b1 #12\n",
    "    a1 = s1\n",
    "    \n",
    "    x2 = a1 #12\n",
    "    s2 = np.dot(x2, w2) + b2 #13\n",
    "    a2 = s2\n",
    "    \n",
    "    x3 = a2 #13\n",
    "    s3 = np.dot(x3, w3) + b3 #11\n",
    "    a3 = s3\n",
    "    \n",
    "    y_Hat = a3 #11\n",
    "    y_Real = y_data[map_index] #11\n",
    "    \n",
    "    #Backpropagation\n",
    "    #===== 準備BP for b3 w3 =====\n",
    "    delta_3_out = 2 * (y_Hat - y_Real)  \n",
    "    delta_3_in = delta_3_out * 1; #print(delta_3_in)\n",
    "    \n",
    "    gradient_b3 = delta_3_in #11\n",
    "    gradient_w3 = np.dot(np.transpose(x3), delta_3_in) #31\n",
    "    \n",
    "    #===== 準備BP for b2 w2 =====\n",
    "    delta_2_out = np.dot(delta_3_in, np.transpose(w3))\n",
    "    delta_2_in = delta_2_out * 1\n",
    "    \n",
    "    gradient_b2 = delta_2_in #13\n",
    "    gradient_w2 = np.dot(np.transpose(x2), delta_2_in) #23\n",
    "    \n",
    "    #===== 準備BP for b1 w1 =====\n",
    "    delta_1_out = np.dot(delta_2_in, np.transpose(w2))\n",
    "    delta_1_in = delta_1_out * 1\n",
    "    \n",
    "    gradient_b1 = delta_1_in #12\n",
    "    gradient_w1 = np.dot(np.transpose(x1), delta_1_in) #12\n",
    "    \n",
    "    #暫存\n",
    "    temp_gradient_b3 = temp_gradient_b3 + gradient_b3\n",
    "    temp_gradient_w3 = temp_gradient_w3 + gradient_w3\n",
    "    temp_gradient_b2 = temp_gradient_b2 + gradient_b2\n",
    "    temp_gradient_w2 = temp_gradient_w2 + gradient_w2\n",
    "    temp_gradient_b1 = temp_gradient_b1 + gradient_b1\n",
    "    temp_gradient_w1 = temp_gradient_w1 + gradient_w1\n",
    "    \n",
    "    if (index + 1) % batch == 0:\n",
    "        #更新\n",
    "        b3 = b3 - temp_gradient_b3 * learning_rate / (batch * 1.0)\n",
    "        w3 = w3 - temp_gradient_w3 * learning_rate / (batch * 1.0)\n",
    "    \n",
    "        b2 = b2 - temp_gradient_b2 * learning_rate / (batch * 1.0)\n",
    "        w2 = w2 - temp_gradient_w2 * learning_rate / (batch * 1.0)\n",
    "        \n",
    "        b1 = b1 - temp_gradient_b1 * learning_rate / (batch * 1.0)\n",
    "        w1 = w1 - temp_gradient_w1 * learning_rate / (batch * 1.0)\n",
    "        \n",
    "        temp_gradient_b3 = np.zeros(b3.shape)\n",
    "        temp_gradient_w3 = np.zeros(w3.shape)\n",
    "\n",
    "        temp_gradient_b2 = np.zeros(b2.shape)\n",
    "        temp_gradient_w2 = np.zeros(w2.shape)\n",
    "\n",
    "        temp_gradient_b1 = np.zeros(b1.shape)\n",
    "        temp_gradient_w1 = np.zeros(w1.shape)  \n",
    "        #print('update')\n",
    "    \n",
    "    index = index + 1\n",
    "\n",
    "print('Finish', x_data.size, 'read')"
   ]
  },
  {
   "cell_type": "code",
   "execution_count": null,
   "metadata": {
    "collapsed": false,
    "deletable": true,
    "editable": true
   },
   "outputs": [],
   "source": [
    "new_y = np.zeros(y_data.shape)\n",
    "\n",
    "index = 0\n",
    "while index < x_data.size:\n",
    "    \n",
    "    x1 = x_data[index] #11\n",
    "    s1 = np.dot(x1, w1) + b1 #12\n",
    "    a1 = s1\n",
    "    \n",
    "    x2 = a1 #12\n",
    "    s2 = np.dot(x2, w2) + b2 #13\n",
    "    a2 = s2\n",
    "    \n",
    "    x3 = a2 #13\n",
    "    s3 = np.dot(x3, w3) + b3 #11\n",
    "    a3 = s3\n",
    "    \n",
    "    y_Hat = a3 #11\n",
    "\n",
    "    new_y[index] = y_Hat #11\n",
    "    \n",
    "    index = index + 1\n",
    "    \n",
    "print('Finish')"
   ]
  },
  {
   "cell_type": "code",
   "execution_count": null,
   "metadata": {
    "collapsed": false,
    "deletable": true,
    "editable": true
   },
   "outputs": [],
   "source": [
    "fig = plt.figure()\n",
    "ax = fig.add_subplot(1,1,1)\n",
    "\n",
    "ax.plot(x_data, y_data,'y-', lw = 2) #原本\n",
    "ax.plot(x_data, new_y,'r-', lw = 2) #推測\n",
    "\n",
    "plt.show()"
   ]
  },
  {
   "cell_type": "markdown",
   "metadata": {
    "collapsed": true,
    "deletable": true,
    "editable": true
   },
   "source": [
    "#### "
   ]
  }
 ],
 "metadata": {
  "kernelspec": {
   "display_name": "Python 3",
   "language": "python",
   "name": "python3"
  },
  "language_info": {
   "codemirror_mode": {
    "name": "ipython",
    "version": 3
   },
   "file_extension": ".py",
   "mimetype": "text/x-python",
   "name": "python",
   "nbconvert_exporter": "python",
   "pygments_lexer": "ipython3",
   "version": "3.6.0"
  }
 },
 "nbformat": 4,
 "nbformat_minor": 2
}
