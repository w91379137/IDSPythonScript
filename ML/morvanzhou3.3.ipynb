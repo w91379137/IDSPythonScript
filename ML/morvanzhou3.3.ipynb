{
 "cells": [
  {
   "cell_type": "code",
   "execution_count": 1,
   "metadata": {
    "collapsed": true
   },
   "outputs": [],
   "source": [
    "import numpy as np\n",
    "import tensorflow as tf\n",
    "import matplotlib.pyplot as plt\n",
    "\n",
    "np.random.seed(0)\n",
    "tf.set_random_seed(0)"
   ]
  },
  {
   "cell_type": "code",
   "execution_count": 2,
   "metadata": {
    "collapsed": true
   },
   "outputs": [],
   "source": [
    "def add_layer(inputs, in_size, out_size, activation_function = None):\n",
    "    Weights = tf.Variable(tf.random_normal([in_size, out_size]))\n",
    "    Biase = tf.Variable(tf.zeros([1, out_size]))\n",
    "    summation = tf.matmul(inputs, Weights) + Biase\n",
    "    if activation_function is None:\n",
    "        outputs = summation\n",
    "    else:\n",
    "        outputs = activation_function(summation)\n",
    "    return outputs"
   ]
  },
  {
   "cell_type": "code",
   "execution_count": 3,
   "metadata": {
    "collapsed": true
   },
   "outputs": [],
   "source": [
    "x_data = np.linspace(-1, 1, 300)[:, np.newaxis].astype(np.float32)\n",
    "\n",
    "noise = np.random.normal(0, 0.05, x_data.shape).astype(np.float32)\n",
    "y_data = np.power(x_data, 2) + noise"
   ]
  },
  {
   "cell_type": "code",
   "execution_count": 4,
   "metadata": {
    "collapsed": false
   },
   "outputs": [
    {
     "data": {
      "image/png": "[encoded data removed]",
      "text/plain": [
       "<matplotlib.figure.Figure at 0x10db74d68>"
      ]
     },
     "metadata": {},
     "output_type": "display_data"
    }
   ],
   "source": [
    "layer1 = add_layer(x_data, 1, 10, activation_function = tf.nn.relu)\n",
    "layer2 = add_layer(layer1, 10, 5, activation_function = tf.nn.relu)\n",
    "prediction = add_layer(layer2, 5, 1)\n",
    "\n",
    "xs = tf.placeholder(tf.float32, [None, 1])\n",
    "ys = tf.placeholder(tf.float32, [None, 1])\n",
    "\n",
    "c1 = tf.square(ys - prediction)\n",
    "c2 = tf.reduce_sum(c1, reduction_indices=[1])\n",
    "loss = tf.reduce_mean(c2)\n",
    "\n",
    "train = tf.train.GradientDescentOptimizer(0.1).minimize(loss)\n",
    "init = tf.global_variables_initializer()\n",
    "\n",
    "fig = plt.figure()\n",
    "ax = fig.add_subplot(1, 1, 1)\n",
    "ax.scatter(x_data, y_data)\n",
    "plt.ion()\n",
    "plt.show()\n",
    "\n",
    "with tf.Session() as sess:\n",
    "    sess.run(init)\n",
    "    \n",
    "    for i in range(1000):\n",
    "        sess.run(train, feed_dict = {xs: x_data, ys: y_data})\n",
    "        \n",
    "        if i % 50 == 0:\n",
    "            #print(sess.run(loss, feed_dict = {xs: x_data, ys: y_data}))\n",
    "            \n",
    "            try:\n",
    "                ax.remove(lines[0])\n",
    "            except:\n",
    "                pass\n",
    "            \n",
    "            p = sess.run(prediction, feed_dict = {xs: x_data})\n",
    "            lines = ax.plot(x_data, p, 'r-', lw = 5)\n",
    "            plt.pause(0.1)"
   ]
  },
  {
   "cell_type": "code",
   "execution_count": null,
   "metadata": {
    "collapsed": true
   },
   "outputs": [],
   "source": []
  }
 ],
 "metadata": {
  "kernelspec": {
   "display_name": "Python 3",
   "language": "python",
   "name": "python3"
  },
  "language_info": {
   "codemirror_mode": {
    "name": "ipython",
    "version": 3
   },
   "file_extension": ".py",
   "mimetype": "text/x-python",
   "name": "python",
   "nbconvert_exporter": "python",
   "pygments_lexer": "ipython3",
   "version": "3.6.1"
  }
 },
 "nbformat": 4,
 "nbformat_minor": 2
}
