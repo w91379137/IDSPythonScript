{
 "cells": [
  {
   "cell_type": "markdown",
   "metadata": {
    "deletable": true,
    "editable": true
   },
   "source": [
    "https://ckmarkoh.github.io/blog/2015/06/06/neural-network-recurrent-neural-network/"
   ]
  },
  {
   "cell_type": "code",
   "execution_count": 1,
   "metadata": {
    "collapsed": true,
    "deletable": true,
    "editable": true
   },
   "outputs": [],
   "source": [
    "from math import e                                                                        \n",
    "import numpy as np"
   ]
  },
  {
   "cell_type": "code",
   "execution_count": 2,
   "metadata": {
    "collapsed": true,
    "deletable": true,
    "editable": true
   },
   "outputs": [],
   "source": [
    "def sigmoid(x):\n",
    "    return 1.0 / (1.0 + np.exp(-x))\n",
    "\n",
    "def sigmoid_prime(x):\n",
    "    return sigmoid(x) * (1 - sigmoid(x))\n",
    "\n",
    "def max_one(x):\n",
    "    return  (x == x.max()).astype(float)"
   ]
  },
  {
   "cell_type": "code",
   "execution_count": 3,
   "metadata": {
    "collapsed": true,
    "deletable": true,
    "editable": true
   },
   "outputs": [],
   "source": [
    "def rnn(x):\n",
    "    \n",
    "    learning_rate = 0.05\n",
    "    \n",
    "    input_lenght = x.shape[0]\n",
    "    words_dim = x.shape[1]\n",
    "    \n",
    "    w_p = np.random.rand(words_dim) - 0.5\n",
    "    w_c = np.random.rand(words_dim) - 0.5\n",
    "    w_b = np.random.rand(words_dim) - 0.5\n",
    "    \n",
    "    n_in = np.zeros(x.shape)\n",
    "    n_out = np.zeros(x.shape)\n",
    "    \n",
    "    for h in range(10000):\n",
    "        \n",
    "        #feedforward\n",
    "        for t in range(input_lenght):\n",
    "            temp = n_out[t - 1] if t - 1 >= 0 else np.zeros((words_dim))\n",
    "            n_in[t] = w_c * x[t] + w_p * temp + w_b\n",
    "            n_out[t] = sigmoid(n_in[t])\n",
    "            \n",
    "        #backpropagation\n",
    "        d_c = np.zeros(w_c.shape)\n",
    "        d_b = np.zeros(w_b.shape)\n",
    "        d_p = np.zeros(w_p.shape)\n",
    "        \n",
    "        for t in range(input_lenght - 1):\n",
    "            for s in range(t, -1, -1):\n",
    "                if s == t:\n",
    "                    delta_in = n_out[s] - x[s + 1]\n",
    "                else:\n",
    "                    delta_in = delta_in * w_p * sigmoid_prime(n_in[s])\n",
    "                \n",
    "                d_c += delta_in * x[s]\n",
    "                d_b += delta_in\n",
    "                d_p += delta_in * n_out[s - 1]\n",
    "                \n",
    "        w_c -= d_c * learning_rate\n",
    "        w_b -= d_b * learning_rate\n",
    "        w_p -= d_p * learning_rate\n",
    "        \n",
    "    #測試輸出\n",
    "    for t in range(input_lenght):\n",
    "        temp = n_out[t - 1] if t - 1 >= 0 else np.zeros((words_dim))\n",
    "        n_in[t] = w_c * x[t] + w_p * temp + w_b\n",
    "        n_out[t] = sigmoid(n_in[t])\n",
    "        \n",
    "    for x, w in zip(x, n_out):\n",
    "        print '輸入', np.argmax(x), '>', np.argmax(w)\n",
    "        \n",
    "    #print w_p\n",
    "    #print w_b\n",
    "    #print w_c"
   ]
  },
  {
   "cell_type": "code",
   "execution_count": 4,
   "metadata": {
    "collapsed": false,
    "deletable": true,
    "editable": true,
    "scrolled": true
   },
   "outputs": [
    {
     "name": "stdout",
     "output_type": "stream",
     "text": [
      "輸入 3 > 1\n",
      "輸入 2 > 1\n",
      "輸入 1 > 0\n",
      "輸入 0 > 3\n",
      "輸入 3 > 2\n",
      "輸入 2 > 1\n",
      "輸入 1 > 0\n",
      "輸入 0 > 3\n",
      "輸入 3 > 2\n",
      "輸入 2 > 1\n",
      "輸入 1 > 0\n",
      "輸入 0 > 3\n"
     ]
    }
   ],
   "source": [
    "np.random.seed(0)\n",
    "\n",
    "# 預計 n 個字詞 輪流出現 a b c a b c a b c ...\n",
    "n = 4\n",
    "loop = 3\n",
    "x = np.zeros((n * loop, n))\n",
    "\n",
    "for index_loop in range(loop):\n",
    "    for index_n in range(n):\n",
    "        x[index_loop * n + index_n, n - index_n - 1] = 1\n",
    "\n",
    "rnn(x)"
   ]
  },
  {
   "cell_type": "code",
   "execution_count": null,
   "metadata": {
    "collapsed": true,
    "deletable": true,
    "editable": true
   },
   "outputs": [],
   "source": []
  }
 ],
 "metadata": {
  "kernelspec": {
   "display_name": "Python 2",
   "language": "python",
   "name": "python2"
  },
  "language_info": {
   "codemirror_mode": {
    "name": "ipython",
    "version": 2
   },
   "file_extension": ".py",
   "mimetype": "text/x-python",
   "name": "python",
   "nbconvert_exporter": "python",
   "pygments_lexer": "ipython2",
   "version": "2.7.13"
  }
 },
 "nbformat": 4,
 "nbformat_minor": 2
}
