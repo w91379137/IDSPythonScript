{
 "cells": [
  {
   "cell_type": "code",
   "execution_count": 1,
   "metadata": {
    "collapsed": true,
    "deletable": true,
    "editable": true
   },
   "outputs": [],
   "source": [
    "%matplotlib inline"
   ]
  },
  {
   "cell_type": "code",
   "execution_count": 1,
   "metadata": {
    "collapsed": true,
    "deletable": true,
    "editable": true
   },
   "outputs": [],
   "source": [
    "import matplotlib.pyplot as plt\n",
    "import numpy as np"
   ]
  },
  {
   "cell_type": "code",
   "execution_count": 2,
   "metadata": {
    "collapsed": false,
    "deletable": true,
    "editable": true
   },
   "outputs": [
    {
     "data": {
      "text/plain": [
       "<matplotlib.image.AxesImage at 0x108d61450>"
      ]
     },
     "execution_count": 2,
     "metadata": {},
     "output_type": "execute_result"
    }
   ],
   "source": [
    "arr = np.zeros((100, 100))\n",
    "plt.imshow(arr)"
   ]
  },
  {
   "cell_type": "code",
   "execution_count": 6,
   "metadata": {
    "collapsed": false,
    "deletable": true,
    "editable": true
   },
   "outputs": [
    {
     "data": {
      "text/plain": [
       "'\\ncontours, hierarchy = cv2.findContours(thresh,cv2.RETR_TREE,cv2.CHAIN_APPROX_SIMPLE)\\nprint \"there are \" + str(len(contours)) + \" contours\"\\n \\ncnt = contours[0]\\nprint \"there are \" + str(len(cnt)) + \" points in contours[0]\"\\nprint cnt\\n \\ncnt = contours[1]\\nprint \"there are \" + str(len(cnt)) + \" points in contours[1]\"\\nprint cnt\\n \\ncv2.imshow(\\'im\\', im)\\ncv2.waitKey(0)\\ncv2.destroyAllWindows()\\n'"
      ]
     },
     "execution_count": 6,
     "metadata": {},
     "output_type": "execute_result"
    },
    {
     "data": {
      "image/png": "[encoded data removed]",
      "text/plain": [
       "<matplotlib.figure.Figure at 0x10bcef850>"
      ]
     },
     "metadata": {},
     "output_type": "display_data"
    }
   ],
   "source": [
    "import numpy as np\n",
    "import cv2\n",
    "\n",
    "im = cv2.imread('test1.png')\n",
    "# imgray = cv2.cvtColor(im,cv2.COLOR_BGR2GRAY)\n",
    "# ret,thresh = cv2.threshold(imgray,127,255,0)\n",
    "\n",
    "cv2.imshow('im', im)\n",
    "cv2.waitKey(0)\n",
    "cv2.destroyAllWindows()\n",
    "plt.imshow(im)\n",
    "\n",
    "\n",
    "\n",
    "\"\"\"\n",
    "contours, hierarchy = cv2.findContours(thresh,cv2.RETR_TREE,cv2.CHAIN_APPROX_SIMPLE)\n",
    "print \"there are \" + str(len(contours)) + \" contours\"\n",
    " \n",
    "cnt = contours[0]\n",
    "print \"there are \" + str(len(cnt)) + \" points in contours[0]\"\n",
    "print cnt\n",
    " \n",
    "cnt = contours[1]\n",
    "print \"there are \" + str(len(cnt)) + \" points in contours[1]\"\n",
    "print cnt\n",
    " \n",
    "cv2.imshow('im', im)\n",
    "cv2.waitKey(0)\n",
    "cv2.destroyAllWindows()\n",
    "\"\"\""
   ]
  },
  {
   "cell_type": "code",
   "execution_count": 7,
   "metadata": {
    "collapsed": false,
    "deletable": true,
    "editable": true
   },
   "outputs": [
    {
     "name": "stdout",
     "output_type": "stream",
     "text": [
      "imread(filename[, flags]) -> retval\n"
     ]
    }
   ],
   "source": [
    "print cv2.imread.__doc__"
   ]
  },
  {
   "cell_type": "code",
   "execution_count": 8,
   "metadata": {
    "collapsed": true,
    "deletable": true,
    "editable": true
   },
   "outputs": [],
   "source": [
    "import os"
   ]
  },
  {
   "cell_type": "code",
   "execution_count": 9,
   "metadata": {
    "collapsed": false,
    "deletable": true,
    "editable": true
   },
   "outputs": [
    {
     "name": "stdout",
     "output_type": "stream",
     "text": [
      "Return an absolute path.\n"
     ]
    }
   ],
   "source": [
    "print os.path.abspath.__doc__"
   ]
  },
  {
   "cell_type": "code",
   "execution_count": 10,
   "metadata": {
    "collapsed": false,
    "deletable": true,
    "editable": true
   },
   "outputs": [
    {
     "name": "stdout",
     "output_type": "stream",
     "text": [
      "\n",
      "    Test whether all array elements along a given axis evaluate to True.\n",
      "\n",
      "    Parameters\n",
      "    ----------\n",
      "    a : array_like\n",
      "        Input array or object that can be converted to an array.\n",
      "    axis : None or int or tuple of ints, optional\n",
      "        Axis or axes along which a logical AND reduction is performed.\n",
      "        The default (`axis` = `None`) is to perform a logical AND over all\n",
      "        the dimensions of the input array. `axis` may be negative, in\n",
      "        which case it counts from the last to the first axis.\n",
      "\n",
      "        .. versionadded:: 1.7.0\n",
      "\n",
      "        If this is a tuple of ints, a reduction is performed on multiple\n",
      "        axes, instead of a single axis or all the axes as before.\n",
      "    out : ndarray, optional\n",
      "        Alternate output array in which to place the result.\n",
      "        It must have the same shape as the expected output and its\n",
      "        type is preserved (e.g., if ``dtype(out)`` is float, the result\n",
      "        will consist of 0.0's and 1.0's).  See `doc.ufuncs` (Section\n",
      "        \"Output arguments\") for more details.\n",
      "\n",
      "    keepdims : bool, optional\n",
      "        If this is set to True, the axes which are reduced are left\n",
      "        in the result as dimensions with size one. With this option,\n",
      "        the result will broadcast correctly against the input array.\n",
      "\n",
      "        If the default value is passed, then `keepdims` will not be\n",
      "        passed through to the `all` method of sub-classes of\n",
      "        `ndarray`, however any non-default value will be.  If the\n",
      "        sub-classes `sum` method does not implement `keepdims` any\n",
      "        exceptions will be raised.\n",
      "\n",
      "    Returns\n",
      "    -------\n",
      "    all : ndarray, bool\n",
      "        A new boolean or array is returned unless `out` is specified,\n",
      "        in which case a reference to `out` is returned.\n",
      "\n",
      "    See Also\n",
      "    --------\n",
      "    ndarray.all : equivalent method\n",
      "\n",
      "    any : Test whether any element along a given axis evaluates to True.\n",
      "\n",
      "    Notes\n",
      "    -----\n",
      "    Not a Number (NaN), positive infinity and negative infinity\n",
      "    evaluate to `True` because these are not equal to zero.\n",
      "\n",
      "    Examples\n",
      "    --------\n",
      "    >>> np.all([[True,False],[True,True]])\n",
      "    False\n",
      "\n",
      "    >>> np.all([[True,False],[True,True]], axis=0)\n",
      "    array([ True, False], dtype=bool)\n",
      "\n",
      "    >>> np.all([-1, 4, 5])\n",
      "    True\n",
      "\n",
      "    >>> np.all([1.0, np.nan])\n",
      "    True\n",
      "\n",
      "    >>> o=np.array([False])\n",
      "    >>> z=np.all([-1, 4, 5], out=o)\n",
      "    >>> id(z), id(o), z                             # doctest: +SKIP\n",
      "    (28293632, 28293632, array([ True], dtype=bool))\n",
      "\n",
      "    \n"
     ]
    }
   ],
   "source": [
    "print np.all.__doc__"
   ]
  },
  {
   "cell_type": "code",
   "execution_count": 11,
   "metadata": {
    "collapsed": true,
    "deletable": true,
    "editable": true
   },
   "outputs": [],
   "source": [
    "def func():\n",
    "    \"\"\"\n",
    "    this is my func doc string (document here!!)\n",
    "    \"\"\"\n",
    "    \n",
    "    print(\"whatever\")"
   ]
  },
  {
   "cell_type": "code",
   "execution_count": 12,
   "metadata": {
    "collapsed": true,
    "deletable": true,
    "editable": true
   },
   "outputs": [],
   "source": [
    "?func"
   ]
  },
  {
   "cell_type": "code",
   "execution_count": 13,
   "metadata": {
    "collapsed": false,
    "deletable": true,
    "editable": true
   },
   "outputs": [
    {
     "name": "stdout",
     "output_type": "stream",
     "text": [
      "\n",
      "    this is my func doc string (document here!!)\n",
      "    \n"
     ]
    }
   ],
   "source": [
    "print func.__doc__"
   ]
  },
  {
   "cell_type": "code",
   "execution_count": 14,
   "metadata": {
    "collapsed": false,
    "deletable": true,
    "editable": true
   },
   "outputs": [],
   "source": [
    "color_img = cv2.imread(\"test2.jpg\", cv2.IMREAD_COLOR)"
   ]
  },
  {
   "cell_type": "code",
   "execution_count": 15,
   "metadata": {
    "collapsed": false,
    "deletable": true,
    "editable": true
   },
   "outputs": [
    {
     "data": {
      "text/plain": [
       "<matplotlib.image.AxesImage at 0x110fdb110>"
      ]
     },
     "execution_count": 15,
     "metadata": {},
     "output_type": "execute_result"
    },
    {
     "data": {
      "image/png": "[encoded data removed]",
      "text/plain": [
       "<matplotlib.figure.Figure at 0x10bceffd0>"
      ]
     },
     "metadata": {},
     "output_type": "display_data"
    }
   ],
   "source": [
    "plt.imshow(color_img)"
   ]
  },
  {
   "cell_type": "code",
   "execution_count": 16,
   "metadata": {
    "collapsed": false,
    "deletable": true,
    "editable": true
   },
   "outputs": [
    {
     "data": {
      "text/plain": [
       "<matplotlib.image.AxesImage at 0x111095410>"
      ]
     },
     "execution_count": 16,
     "metadata": {},
     "output_type": "execute_result"
    },
    {
     "data": {
      "image/png": "[encoded data removed]",
      "text/plain": [
       "<matplotlib.figure.Figure at 0x110fe8dd0>"
      ]
     },
     "metadata": {},
     "output_type": "display_data"
    }
   ],
   "source": [
    "color_img2 = cv2.cvtColor(color_img, cv2.COLOR_BGR2RGB)\n",
    "plt.imshow(color_img2)"
   ]
  },
  {
   "cell_type": "code",
   "execution_count": null,
   "metadata": {
    "collapsed": true,
    "deletable": true,
    "editable": true
   },
   "outputs": [],
   "source": []
  }
 ],
 "metadata": {
  "kernelspec": {
   "display_name": "Python 2",
   "language": "python",
   "name": "python2"
  },
  "language_info": {
   "codemirror_mode": {
    "name": "ipython",
    "version": 2
   },
   "file_extension": ".py",
   "mimetype": "text/x-python",
   "name": "python",
   "nbconvert_exporter": "python",
   "pygments_lexer": "ipython2",
   "version": "2.7.13"
  }
 },
 "nbformat": 4,
 "nbformat_minor": 2
}
