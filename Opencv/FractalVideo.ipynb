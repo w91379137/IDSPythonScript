{
 "cells": [
  {
   "cell_type": "markdown",
   "metadata": {
    "deletable": true,
    "editable": true
   },
   "source": [
    "程式來源\n",
    "https://github.com/danilobellini/fractal\n",
    "\n",
    "色彩轉換\n",
    "https://en.wikipedia.org/wiki/Color_wheel_graphs_of_complex_functions\n",
    "https://www.mathworks.com/matlabcentral/fileexchange/52374-show---scroll-visualize-arbitrary-n-dimensional-arrays?focused=6523399&tab=function"
   ]
  },
  {
   "cell_type": "code",
   "execution_count": null,
   "metadata": {
    "collapsed": false,
    "deletable": true,
    "editable": true
   },
   "outputs": [],
   "source": [
    "%matplotlib inline\n",
    "import matplotlib.pyplot as plt\n",
    "import fractal\n",
    "import cv2\n",
    "import numpy as np\n",
    "import math\n",
    "from complex2hsv import *"
   ]
  },
  {
   "cell_type": "code",
   "execution_count": null,
   "metadata": {
    "collapsed": false,
    "deletable": true,
    "editable": true
   },
   "outputs": [],
   "source": [
    "w, h, fps = 1024, 1024, 1\n",
    "# video = cv2.VideoWriter('Fractal.mov', -1, fps, (w, h))\n",
    "frame_count = 50\n",
    "\n",
    "#temp = np.full((w, h, 3), 0)\n",
    "for index in range(0,frame_count):\n",
    "    c = -0.7 + (0.27015 + 0.001 * (index - frame_count / 2)) * 1j\n",
    "    img = fractal.generate_fractal(\"julia\", c, (w, h)) #這是複數\n",
    "    img = complex2hsv(img)\n",
    "    img = cv2.cvtColor(img, cv2.COLOR_HLS2BGR)\n",
    "    img = img * 255\n",
    "    img = img.astype(np.uint8)\n",
    "    \n",
    "    img_0 = cv2.equalizeHist(img[:,:,0])\n",
    "    img_1 = cv2.equalizeHist(img[:,:,1])\n",
    "    img_2 = cv2.equalizeHist(img[:,:,2])\n",
    "    \n",
    "    for x in range(0, w):\n",
    "        for y in range(0, h):\n",
    "            img[x, y, 0] = img_0[x, y]\n",
    "            img[x, y, 1] = img_1[x, y]\n",
    "            img[x, y, 2] = img_2[x, y]\n",
    "    \n",
    "    #temp = img\n",
    "    #plt.imshow(img)\n",
    "    \n",
    "    if not cv2.imwrite(\"ignore/save/img\" + str(index) + \".png\",img):\n",
    "        print(\"save color fail: {}\".format(index))\n",
    "    \n",
    "    #video.write(img_n)\n",
    "    print str(index) + \"/\" + str(frame_count)\n",
    "    \n",
    "\n",
    "# cv2.destroyAllWindows()\n",
    "# video.release()\n",
    "print(\"OK\")"
   ]
  },
  {
   "cell_type": "code",
   "execution_count": null,
   "metadata": {
    "collapsed": true
   },
   "outputs": [],
   "source": []
  }
 ],
 "metadata": {
  "kernelspec": {
   "display_name": "Python 2",
   "language": "python",
   "name": "python2"
  },
  "language_info": {
   "codemirror_mode": {
    "name": "ipython",
    "version": 2
   },
   "file_extension": ".py",
   "mimetype": "text/x-python",
   "name": "python",
   "nbconvert_exporter": "python",
   "pygments_lexer": "ipython2",
   "version": "2.7.13"
  }
 },
 "nbformat": 4,
 "nbformat_minor": 2
}
