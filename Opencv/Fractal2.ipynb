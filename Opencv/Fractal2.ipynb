{
 "cells": [
  {
   "cell_type": "markdown",
   "metadata": {
    "deletable": true,
    "editable": true
   },
   "source": [
    "https://thesamovar.wordpress.com/2009/03/22/fast-fractals-with-python-and-numpy/\n",
    "\n",
    "https://www.youtube.com/watch?v=q2fIWB8o-bs"
   ]
  },
  {
   "cell_type": "code",
   "execution_count": 2,
   "metadata": {
    "collapsed": true,
    "deletable": true,
    "editable": true
   },
   "outputs": [],
   "source": [
    "from numpy import *\n",
    " \n",
    "def mandel(n, m, itermax, xmin, xmax, ymin, ymax):\n",
    "    '''\n",
    "    Fast mandelbrot computation using numpy.\n",
    " \n",
    "    (n, m) are the output image dimensions\n",
    "    itermax is the maximum number of iterations to do\n",
    "    xmin, xmax, ymin, ymax specify the region of the\n",
    "    set to compute.\n",
    "    '''\n",
    "    # The point of ix and iy is that they are 2D arrays\n",
    "    # giving the x-coord and y-coord at each point in\n",
    "    # the array. The reason for doing this will become\n",
    "    # clear below...\n",
    "    ix, iy = mgrid[0:n, 0:m]\n",
    "    # Now x and y are the x-values and y-values at each\n",
    "    # point in the array, linspace(start, end, n)\n",
    "    # is an array of n linearly spaced points between\n",
    "    # start and end, and we then index this array using\n",
    "    # numpy fancy indexing. If A is an array and I is\n",
    "    # an array of indices, then A[I] has the same shape\n",
    "    # as I and at each place i in I has the value A[i].\n",
    "    x = linspace(xmin, xmax, n)[ix]\n",
    "    y = linspace(ymin, ymax, m)[iy]\n",
    "    # c is the complex number with the given x, y coords\n",
    "    c = x+complex(0,1)*y\n",
    "    del x, y # save a bit of memory, we only need z\n",
    "    # the output image coloured according to the number\n",
    "    # of iterations it takes to get to the boundary\n",
    "    # abs(z)>2\n",
    "    img = zeros(c.shape, dtype=int)\n",
    "    # Here is where the improvement over the standard\n",
    "    # algorithm for drawing fractals in numpy comes in.\n",
    "    # We flatten all the arrays ix, iy and c. This\n",
    "    # flattening doesn't use any more memory because\n",
    "    # we are just changing the shape of the array, the\n",
    "    # data in memory stays the same. It also affects\n",
    "    # each array in the same way, so that index i in\n",
    "    # array c has x, y coords ix[i], iy[i]. The way the\n",
    "    # algorithm works is that whenever abs(z)>2 we\n",
    "    # remove the corresponding index from each of the\n",
    "    # arrays ix, iy and c. Since we do the same thing\n",
    "    # to each array, the correspondence between c and\n",
    "    # the x, y coords stored in ix and iy is kept.\n",
    "    ix.shape = n*m\n",
    "    iy.shape = n*m\n",
    "    c.shape = n*m\n",
    "    # we iterate z->z^2+c with z starting at 0, but the\n",
    "    # first iteration makes z=c so we just start there.\n",
    "    # We need to copy c because otherwise the operation\n",
    "    # z->z^2 will send c->c^2.\n",
    "    z = copy(c)\n",
    "    for i in xrange(itermax):\n",
    "        if not len(z): break # all points have escaped\n",
    "        # equivalent to z = z*z+c but quicker and uses\n",
    "        # less memory\n",
    "        multiply(z, z, z)\n",
    "        add(z, c, z)\n",
    "        # these are the points that have escaped\n",
    "        rem = abs(z)>2.0\n",
    "        # colour them with the iteration number, we\n",
    "        # add one so that points which haven't\n",
    "        # escaped have 0 as their iteration number,\n",
    "        # this is why we keep the arrays ix and iy\n",
    "        # because we need to know which point in img\n",
    "        # to colour\n",
    "        img[ix[rem], iy[rem]] = i+1\n",
    "        # -rem is the array of points which haven't\n",
    "        # escaped, in numpy -A for a boolean array A\n",
    "        # is the NOT operation.\n",
    "        rem = -rem\n",
    "        # So we select out the points in\n",
    "        # z, ix, iy and c which are still to be\n",
    "        # iterated on in the next step\n",
    "        z = z[rem]\n",
    "        ix, iy = ix[rem], iy[rem]\n",
    "        c = c[rem]\n",
    "    return img"
   ]
  },
  {
   "cell_type": "code",
   "execution_count": 4,
   "metadata": {
    "collapsed": false,
    "deletable": true,
    "editable": true
   },
   "outputs": [
    {
     "name": "stderr",
     "output_type": "stream",
     "text": [
      "/usr/local/lib/python2.7/site-packages/ipykernel/__main__.py:72: DeprecationWarning: numpy boolean negative, the `-` operator, is deprecated, use the `~` operator or the logical_not function instead.\n"
     ]
    },
    {
     "name": "stdout",
     "output_type": "stream",
     "text": [
      "Time taken: 0.0495851039886\n"
     ]
    },
    {
     "data": {
      "image/png": "[encoded data removed]",
      "text/plain": [
       "<matplotlib.figure.Figure at 0x10a36fb90>"
      ]
     },
     "metadata": {},
     "output_type": "display_data"
    }
   ],
   "source": [
    "import time\n",
    "import matplotlib.pyplot as plt\n",
    "\n",
    "start = time.time()\n",
    "I = mandel(400, 400, 30, -2.5, 1, -1.75, 1.75)\n",
    "print 'Time taken:', time.time()-start\n",
    "I[I==0] = 101\n",
    "\n",
    "plt.imshow(I)\n",
    "plt.show()"
   ]
  },
  {
   "cell_type": "code",
   "execution_count": null,
   "metadata": {
    "collapsed": true,
    "deletable": true,
    "editable": true
   },
   "outputs": [],
   "source": [
    "\n"
   ]
  }
 ],
 "metadata": {
  "kernelspec": {
   "display_name": "Python 2",
   "language": "python",
   "name": "python2"
  },
  "language_info": {
   "codemirror_mode": {
    "name": "ipython",
    "version": 2
   },
   "file_extension": ".py",
   "mimetype": "text/x-python",
   "name": "python",
   "nbconvert_exporter": "python",
   "pygments_lexer": "ipython2",
   "version": "2.7.13"
  }
 },
 "nbformat": 4,
 "nbformat_minor": 2
}
