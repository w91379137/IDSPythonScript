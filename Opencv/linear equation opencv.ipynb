{
 "cells": [
  {
   "cell_type": "code",
   "execution_count": 13,
   "metadata": {
    "collapsed": true
   },
   "outputs": [],
   "source": [
    "%matplotlib inline\n",
    "import matplotlib as plt\n",
    "import numpy as np\n",
    "from scipy import linalg\n",
    "import cv2"
   ]
  },
  {
   "cell_type": "code",
   "execution_count": 14,
   "metadata": {
    "collapsed": false
   },
   "outputs": [
    {
     "name": "stdout",
     "output_type": "stream",
     "text": [
      "[[ 0.5 -0. ]\n",
      " [-0.   0.5]]\n"
     ]
    }
   ],
   "source": [
    "M2 = np.asarray([[2, 0], [0 , 2]], np.float32)\n",
    "retval, M5 = cv2.invert(M2)\n",
    "print M5"
   ]
  },
  {
   "cell_type": "code",
   "execution_count": 15,
   "metadata": {
    "collapsed": true
   },
   "outputs": [],
   "source": [
    "?linalg.lstsq"
   ]
  },
  {
   "cell_type": "code",
   "execution_count": 19,
   "metadata": {
    "collapsed": false
   },
   "outputs": [
    {
     "name": "stdout",
     "output_type": "stream",
     "text": [
      "[[ 1.  1.]\n",
      " [ 1.  2.]\n",
      " [ 1.  3.]\n",
      " [ 1.  4.]]\n"
     ]
    }
   ],
   "source": [
    "x = np.array([1, 2, 3, 4])\n",
    "y = np.array([6, 5, 7, 10])\n",
    "A = np.vstack([np.ones(len(x)), x]).T\n",
    "print A"
   ]
  },
  {
   "cell_type": "code",
   "execution_count": 24,
   "metadata": {
    "collapsed": false
   },
   "outputs": [
    {
     "name": "stdout",
     "output_type": "stream",
     "text": [
      "3.5 1.4\n"
     ]
    }
   ],
   "source": [
    "k1, k2 = np.linalg.lstsq(A, y)[0]\n",
    "print k1, k2\n",
    "?np.linalg.lstsq"
   ]
  },
  {
   "cell_type": "code",
   "execution_count": 28,
   "metadata": {
    "collapsed": false
   },
   "outputs": [
    {
     "name": "stdout",
     "output_type": "stream",
     "text": [
      "[[1 3 5]\n",
      " [2 5 1]\n",
      " [2 3 8]]\n"
     ]
    }
   ],
   "source": [
    "p1 = np.array([1, 2, 2])\n",
    "p2 = np.array([3, 5, 3])\n",
    "p3 = np.array([5, 1, 8])\n",
    "y = np.array([10, 8, 3])\n",
    "A = np.vstack([p1, p2, p3]).T\n",
    "print A"
   ]
  },
  {
   "cell_type": "code",
   "execution_count": 29,
   "metadata": {
    "collapsed": false
   },
   "outputs": [
    {
     "name": "stdout",
     "output_type": "stream",
     "text": [
      "[-9.28  5.16  0.76]\n"
     ]
    }
   ],
   "source": [
    "print np.linalg.lstsq(A, y)[0]"
   ]
  },
  {
   "cell_type": "code",
   "execution_count": 40,
   "metadata": {
    "collapsed": false
   },
   "outputs": [
    {
     "name": "stdout",
     "output_type": "stream",
     "text": [
      "[[  1.   0.  40.]\n",
      " [  0.   1.  40.]]\n",
      "[[10 10  1  0  0  0]\n",
      " [ 0  0  0 10 10  1]\n",
      " [10 50  1  0  0  0]\n",
      " [ 0  0  0 10 50  1]\n",
      " [50 10  1  0  0  0]\n",
      " [ 0  0  0 50 10  1]]\n",
      "[50 50 50 90 90 50]\n",
      "[[  1.00000000e+00   0.00000000e+00   4.00000000e+01]\n",
      " [ -1.77635684e-15   1.00000000e+00   4.00000000e+01]]\n"
     ]
    }
   ],
   "source": [
    "p1 = np.float32([[10,10], [10,50], [50,10]])#原圖三個點\n",
    "p2 = np.float32([[50,50], [50,90], [90,50]])#移至三個點\n",
    "\n",
    "m = cv2.getAffineTransform(p1, p2)\n",
    "print m\n",
    "\n",
    "y  = np.array([50, 50, 50, 90, 90, 50])\n",
    "p0 = np.array([10,  0, 10,  0, 50,  0])\n",
    "p1 = np.array([10,  0, 50,  0, 10,  0])\n",
    "p2 = np.array([ 1,  0,  1,  0,  1,  0])\n",
    "p3 = np.array([ 0, 10,  0, 10,  0, 50])\n",
    "p4 = np.array([ 0, 10,  0, 50,  0, 10])\n",
    "p5 = np.array([ 0,  1,  0,  1,  0,  1])\n",
    "\n",
    "A = np.vstack([p0, p1, p2, p3, p4, p5]).T\n",
    "print A\n",
    "print y\n",
    "\n",
    "ans = np.reshape(np.linalg.lstsq(A, y)[0], (2, 3))\n",
    "#ans = ans.astype(np.uint8)\n",
    "print ans"
   ]
  },
  {
   "cell_type": "code",
   "execution_count": 43,
   "metadata": {
    "collapsed": false
   },
   "outputs": [
    {
     "name": "stdout",
     "output_type": "stream",
     "text": [
      "[[10 10  1]\n",
      " [10 50  1]\n",
      " [50 10  1]]\n",
      "[50 50 90]\n",
      "[[  1.   0.  40.]]\n",
      "[[10 10  1]\n",
      " [10 50  1]\n",
      " [50 10  1]]\n",
      "[50 90 50]\n",
      "[[ -2.73488027e-16   1.00000000e+00   4.00000000e+01]]\n"
     ]
    }
   ],
   "source": [
    "y  = np.array([50, 50, 90])\n",
    "p0 = np.array([10, 10, 50])\n",
    "p1 = np.array([10, 50, 10])\n",
    "p2 = np.array([ 1,  1,  1])\n",
    "\n",
    "A = np.vstack([p0, p1, p2]).T\n",
    "print A\n",
    "print y\n",
    "ans = np.reshape(np.linalg.lstsq(A, y)[0], (1, 3))\n",
    "print ans\n",
    "\n",
    "y  = np.array([50, 90, 50])\n",
    "p0 = np.array([10, 10, 50])\n",
    "p1 = np.array([10, 50, 10])\n",
    "p2 = np.array([ 1,  1,  1])\n",
    "\n",
    "A = np.vstack([p0, p1, p2]).T\n",
    "print A\n",
    "print y\n",
    "ans = np.reshape(np.linalg.lstsq(A, y)[0], (1, 3))\n",
    "print ans"
   ]
  },
  {
   "cell_type": "code",
   "execution_count": null,
   "metadata": {
    "collapsed": true
   },
   "outputs": [],
   "source": []
  }
 ],
 "metadata": {
  "kernelspec": {
   "display_name": "Python 2",
   "language": "python",
   "name": "python2"
  },
  "language_info": {
   "codemirror_mode": {
    "name": "ipython",
    "version": 2
   },
   "file_extension": ".py",
   "mimetype": "text/x-python",
   "name": "python",
   "nbconvert_exporter": "python",
   "pygments_lexer": "ipython2",
   "version": "2.7.13"
  }
 },
 "nbformat": 4,
 "nbformat_minor": 2
}
