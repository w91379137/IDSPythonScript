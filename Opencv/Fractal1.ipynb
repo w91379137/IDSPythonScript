{
 "cells": [
  {
   "cell_type": "markdown",
   "metadata": {
    "deletable": true,
    "editable": true
   },
   "source": [
    "http://stackoverflow.com/questions/17393592/how-do-i-speed-up-fractal-generation-with-numpy-arrays"
   ]
  },
  {
   "cell_type": "code",
   "execution_count": 8,
   "metadata": {
    "collapsed": false,
    "deletable": true,
    "editable": true
   },
   "outputs": [
    {
     "data": {
      "image/png": "[encoded data removed]",
      "text/plain": [
       "<matplotlib.figure.Figure at 0x109293a50>"
      ]
     },
     "metadata": {},
     "output_type": "display_data"
    }
   ],
   "source": [
    "import numpy as np\n",
    "import matplotlib.pyplot as plt\n",
    "from itertools import count\n",
    "\n",
    "def newton_fractal(xmin, xmax, ymin, ymax, xres, yres):\n",
    "    yarr, xarr = np.meshgrid(np.linspace(xmin, xmax, xres), \\\n",
    "                             np.linspace(ymin, ymax, yres) * 1j)\n",
    "    arr = yarr + xarr\n",
    "    ydim, xdim = arr.shape\n",
    "    arr = arr.flatten()\n",
    "    f = np.poly1d([1,0,0,-1]) # x^3 - 1\n",
    "    fp = np.polyder(f)\n",
    "    counts = np.zeros(shape=arr.shape)\n",
    "    unconverged = np.ones(shape=arr.shape, dtype=bool)\n",
    "    indices = np.arange(len(arr))\n",
    "    for i in count():\n",
    "        f_g = f(arr[unconverged])\n",
    "        new_unconverged = np.abs(f_g) > 0.00001\n",
    "        counts[indices[unconverged][~new_unconverged]] = i\n",
    "        if not np.any(new_unconverged):\n",
    "            return counts.reshape((ydim, xdim))\n",
    "        unconverged[unconverged] = new_unconverged\n",
    "        arr[unconverged] -= f_g[new_unconverged] / fp(arr[unconverged])\n",
    "\n",
    "N = 120\n",
    "pic = newton_fractal(-10, 10, -10, 10, N, N)\n",
    "\n",
    "plt.imshow(im)"
   ]
  },
  {
   "cell_type": "code",
   "execution_count": null,
   "metadata": {
    "collapsed": true,
    "deletable": true,
    "editable": true
   },
   "outputs": [],
   "source": []
  }
 ],
 "metadata": {
  "kernelspec": {
   "display_name": "Python 2",
   "language": "python",
   "name": "python2"
  },
  "language_info": {
   "codemirror_mode": {
    "name": "ipython",
    "version": 2
   },
   "file_extension": ".py",
   "mimetype": "text/x-python",
   "name": "python",
   "nbconvert_exporter": "python",
   "pygments_lexer": "ipython2",
   "version": "2.7.13"
  }
 },
 "nbformat": 4,
 "nbformat_minor": 2
}
