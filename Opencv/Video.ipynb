{
 "cells": [
  {
   "cell_type": "code",
   "execution_count": 37,
   "metadata": {
    "collapsed": false
   },
   "outputs": [],
   "source": [
    "import cv2\n",
    "import numpy as np\n",
    "\n",
    "w, h, fps = 512, 512, 20\n",
    "video = cv2.VideoWriter('video.mov', -1, fps, (w, h))\n",
    "\n",
    "for index in range(0,256):\n",
    "    #img = np.full((h, w, 3), index, dtype=np.uint8)\n",
    "    img = np.zeros((h, w, 3), dtype=np.uint8)\n",
    "    img[:,:,0] = index \n",
    "    img[:,:,1] = 256 - index \n",
    "    img[:,:,2] = index \n",
    "    video.write(img)\n",
    "\n",
    "cv2.destroyAllWindows()\n",
    "video.release()"
   ]
  },
  {
   "cell_type": "code",
   "execution_count": null,
   "metadata": {
    "collapsed": true
   },
   "outputs": [],
   "source": []
  }
 ],
 "metadata": {
  "kernelspec": {
   "display_name": "Python 2",
   "language": "python",
   "name": "python2"
  },
  "language_info": {
   "codemirror_mode": {
    "name": "ipython",
    "version": 2
   },
   "file_extension": ".py",
   "mimetype": "text/x-python",
   "name": "python",
   "nbconvert_exporter": "python",
   "pygments_lexer": "ipython2",
   "version": "2.7.13"
  }
 },
 "nbformat": 4,
 "nbformat_minor": 2
}
