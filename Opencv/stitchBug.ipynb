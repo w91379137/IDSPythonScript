{
 "cells": [
  {
   "cell_type": "code",
   "execution_count": 20,
   "metadata": {
    "collapsed": true,
    "deletable": true,
    "editable": true
   },
   "outputs": [],
   "source": [
    "%matplotlib inline\n",
    "import matplotlib.pyplot as plt\n",
    "import cv2\n",
    "import numpy as np"
   ]
  },
  {
   "cell_type": "code",
   "execution_count": 21,
   "metadata": {
    "collapsed": false,
    "deletable": true,
    "editable": true
   },
   "outputs": [
    {
     "name": "stdout",
     "output_type": "stream",
     "text": [
      "(480, 320, 3) (480, 320, 3) (480, 320, 3) (480, 320, 3) (480, 320, 3)\n"
     ]
    }
   ],
   "source": [
    "img_s1 = cv2.imread(\"ignore/S1.jpg\", cv2.IMREAD_COLOR)\n",
    "img_s2 = cv2.imread(\"ignore/S2.jpg\", cv2.IMREAD_COLOR)\n",
    "img_s3 = cv2.imread(\"ignore/S3.jpg\", cv2.IMREAD_COLOR)\n",
    "img_s5 = cv2.imread(\"ignore/S5.jpg\", cv2.IMREAD_COLOR)\n",
    "img_s6 = cv2.imread(\"ignore/S6.jpg\", cv2.IMREAD_COLOR)\n",
    "\n",
    "print img_s1.shape, img_s2.shape, img_s3.shape, img_s5.shape, img_s6.shape"
   ]
  },
  {
   "cell_type": "code",
   "execution_count": 29,
   "metadata": {
    "collapsed": false,
    "deletable": true,
    "editable": true
   },
   "outputs": [
    {
     "ename": "error",
     "evalue": "/tmp/opencv3-20170328-79512-1sre6cp/modules/python/src2/cv2.cpp:152: error: (-215) The data should normally be NULL! in function allocate\n",
     "output_type": "error",
     "traceback": [
      "\u001b[0;31m---------------------------------------------------------------------------\u001b[0m",
      "\u001b[0;31merror\u001b[0m                                     Traceback (most recent call last)",
      "\u001b[0;32m<ipython-input-29-1b985487bd07>\u001b[0m in \u001b[0;36m<module>\u001b[0;34m()\u001b[0m\n\u001b[1;32m      2\u001b[0m \u001b[0mget_ipython\u001b[0m\u001b[0;34m(\u001b[0m\u001b[0;34m)\u001b[0m\u001b[0;34m.\u001b[0m\u001b[0mmagic\u001b[0m\u001b[0;34m(\u001b[0m\u001b[0;34mu'pinfo stitcher.stitch'\u001b[0m\u001b[0;34m)\u001b[0m\u001b[0;34m\u001b[0m\u001b[0m\n\u001b[1;32m      3\u001b[0m \u001b[0mpano\u001b[0m \u001b[0;34m=\u001b[0m \u001b[0mNone\u001b[0m\u001b[0;34m\u001b[0m\u001b[0m\n\u001b[0;32m----> 4\u001b[0;31m \u001b[0mresult\u001b[0m \u001b[0;34m=\u001b[0m \u001b[0mstitcher\u001b[0m\u001b[0;34m.\u001b[0m\u001b[0mstitch\u001b[0m\u001b[0;34m(\u001b[0m\u001b[0;34m(\u001b[0m\u001b[0mimg_s1\u001b[0m\u001b[0;34m,\u001b[0m \u001b[0mimg_s2\u001b[0m\u001b[0;34m,\u001b[0m \u001b[0mimg_s3\u001b[0m\u001b[0;34m,\u001b[0m \u001b[0mimg_s5\u001b[0m\u001b[0;34m,\u001b[0m \u001b[0mimg_s6\u001b[0m\u001b[0;34m)\u001b[0m\u001b[0;34m,\u001b[0m \u001b[0mpano\u001b[0m\u001b[0;34m)\u001b[0m\u001b[0;34m\u001b[0m\u001b[0m\n\u001b[0m\u001b[1;32m      5\u001b[0m \u001b[0mget_ipython\u001b[0m\u001b[0;34m(\u001b[0m\u001b[0;34m)\u001b[0m\u001b[0;34m.\u001b[0m\u001b[0mmagic\u001b[0m\u001b[0;34m(\u001b[0m\u001b[0;34mu'pinfo result'\u001b[0m\u001b[0;34m)\u001b[0m\u001b[0;34m\u001b[0m\u001b[0m\n\u001b[1;32m      6\u001b[0m \u001b[0mplt\u001b[0m\u001b[0;34m.\u001b[0m\u001b[0mimshow\u001b[0m\u001b[0;34m(\u001b[0m\u001b[0mresult\u001b[0m\u001b[0;34m)\u001b[0m\u001b[0;34m\u001b[0m\u001b[0m\n",
      "\u001b[0;31merror\u001b[0m: /tmp/opencv3-20170328-79512-1sre6cp/modules/python/src2/cv2.cpp:152: error: (-215) The data should normally be NULL! in function allocate\n"
     ]
    }
   ],
   "source": [
    "stitcher = cv2.createStitcher(False)\n",
    "?stitcher.stitch\n",
    "pano = None\n",
    "result = stitcher.stitch((img_s1, img_s2, img_s3, img_s5, img_s6), pano)\n",
    "?result\n",
    "plt.imshow(result)"
   ]
  },
  {
   "cell_type": "code",
   "execution_count": null,
   "metadata": {
    "collapsed": true,
    "deletable": true,
    "editable": true
   },
   "outputs": [],
   "source": []
  }
 ],
 "metadata": {
  "kernelspec": {
   "display_name": "Python 2",
   "language": "python",
   "name": "python2"
  },
  "language_info": {
   "codemirror_mode": {
    "name": "ipython",
    "version": 2
   },
   "file_extension": ".py",
   "mimetype": "text/x-python",
   "name": "python",
   "nbconvert_exporter": "python",
   "pygments_lexer": "ipython2",
   "version": "2.7.13"
  }
 },
 "nbformat": 4,
 "nbformat_minor": 2
}
