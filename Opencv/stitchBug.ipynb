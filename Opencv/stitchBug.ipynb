{
 "cells": [
  {
   "cell_type": "code",
   "execution_count": null,
   "metadata": {
    "collapsed": true,
    "deletable": true,
    "editable": true
   },
   "outputs": [],
   "source": [
    "%matplotlib inline\n",
    "import matplotlib.pyplot as plt\n",
    "import cv2\n",
    "import numpy as np"
   ]
  },
  {
   "cell_type": "code",
   "execution_count": null,
   "metadata": {
    "collapsed": false,
    "deletable": true,
    "editable": true
   },
   "outputs": [],
   "source": [
    "img_s1 = cv2.imread(\"ignore/S1.jpg\", cv2.IMREAD_COLOR)\n",
    "img_s2 = cv2.imread(\"ignore/S2.jpg\", cv2.IMREAD_COLOR)\n",
    "img_s3 = cv2.imread(\"ignore/S3.jpg\", cv2.IMREAD_COLOR)\n",
    "img_s5 = cv2.imread(\"ignore/S5.jpg\", cv2.IMREAD_COLOR)\n",
    "img_s6 = cv2.imread(\"ignore/S6.jpg\", cv2.IMREAD_COLOR)\n",
    "\n",
    "print img_s1.shape, img_s2.shape, img_s3.shape, img_s5.shape, img_s6.shape"
   ]
  },
  {
   "cell_type": "code",
   "execution_count": null,
   "metadata": {
    "collapsed": false,
    "deletable": true,
    "editable": true
   },
   "outputs": [],
   "source": [
    "stitcher = cv2.createStitcher(False)\n",
    "?stitcher.stitch\n",
    "pano = None\n",
    "result = stitcher.stitch((img_s1, img_s2, img_s3, img_s5, img_s6), pano)\n",
    "plt.imshow(result)"
   ]
  },
  {
   "cell_type": "code",
   "execution_count": null,
   "metadata": {
    "collapsed": true,
    "deletable": true,
    "editable": true
   },
   "outputs": [],
   "source": []
  }
 ],
 "metadata": {
  "kernelspec": {
   "display_name": "Python 2",
   "language": "python",
   "name": "python2"
  },
  "language_info": {
   "codemirror_mode": {
    "name": "ipython",
    "version": 2
   },
   "file_extension": ".py",
   "mimetype": "text/x-python",
   "name": "python",
   "nbconvert_exporter": "python",
   "pygments_lexer": "ipython2",
   "version": "2.7.13"
  }
 },
 "nbformat": 4,
 "nbformat_minor": 2
}
