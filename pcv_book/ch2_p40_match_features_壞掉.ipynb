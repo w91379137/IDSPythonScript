{
 "cells": [
  {
   "cell_type": "code",
   "execution_count": 1,
   "metadata": {
    "collapsed": false,
    "deletable": true,
    "editable": true
   },
   "outputs": [
    {
     "name": "stdout",
     "output_type": "stream",
     "text": [
      "sift tmp.pgm --output=./data/climbing_1_small.jpg.sift --edge-thresh 10 --peak-thresh 5\n",
      "processed tmp.pgm to ./data/climbing_1_small.jpg.sift\n",
      "sift tmp.pgm --output=./data/climbing_2_small.jpg.sift --edge-thresh 10 --peak-thresh 5\n",
      "processed tmp.pgm to ./data/climbing_2_small.jpg.sift\n"
     ]
    },
    {
     "data": {
      "text/plain": [
       "\"\\n# read features and match\\nl1,d1 = sift.read_features_from_file(imname1+'.sift')\\nl2,d2 = sift.read_features_from_file(imname2+'.sift')\\nmatchscores = sift.match_twosided(d1, d2)\\n\\n# load images and plot\\nim1 = array(Image.open(imname1))\\nim2 = array(Image.open(imname2))\\n\\nsift.plot_matches(im1,im2,l1,l2,matchscores,show_below=True)\\nshow()\\n\""
      ]
     },
     "execution_count": 1,
     "metadata": {},
     "output_type": "execute_result"
    }
   ],
   "source": [
    "from pylab import *\n",
    "from numpy import *\n",
    "from PIL import Image\n",
    "\n",
    "from PCV.localdescriptors import sift\n",
    "\n",
    "\"\"\"\n",
    "This is the twosided SIFT feature matching example from Section 2.2 (p 44).\n",
    "\"\"\"\n",
    "\n",
    "imname1 = './data/climbing_1_small.jpg'\n",
    "imname2 = './data/climbing_2_small.jpg'\n",
    "\n",
    "# process and save features to file\n",
    "sift.process_image(imname1, imname1+'.sift')\n",
    "sift.process_image(imname2, imname2+'.sift')\n",
    "\n",
    "'''\n",
    "# read features and match\n",
    "l1,d1 = sift.read_features_from_file(imname1+'.sift')\n",
    "l2,d2 = sift.read_features_from_file(imname2+'.sift')\n",
    "matchscores = sift.match_twosided(d1, d2)\n",
    "\n",
    "# load images and plot\n",
    "im1 = array(Image.open(imname1))\n",
    "im2 = array(Image.open(imname2))\n",
    "\n",
    "sift.plot_matches(im1,im2,l1,l2,matchscores,show_below=True)\n",
    "show()\n",
    "'''"
   ]
  },
  {
   "cell_type": "code",
   "execution_count": null,
   "metadata": {
    "collapsed": true,
    "deletable": true,
    "editable": true
   },
   "outputs": [],
   "source": []
  }
 ],
 "metadata": {
  "kernelspec": {
   "display_name": "Python 2",
   "language": "python",
   "name": "python2"
  },
  "language_info": {
   "codemirror_mode": {
    "name": "ipython",
    "version": 2
   },
   "file_extension": ".py",
   "mimetype": "text/x-python",
   "name": "python",
   "nbconvert_exporter": "python",
   "pygments_lexer": "ipython2",
   "version": "2.7.13"
  }
 },
 "nbformat": 4,
 "nbformat_minor": 2
}
