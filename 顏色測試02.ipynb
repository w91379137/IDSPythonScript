{
 "cells": [
  {
   "cell_type": "code",
   "execution_count": 1,
   "metadata": {
    "collapsed": true
   },
   "outputs": [],
   "source": [
    "%matplotlib inline\n",
    "\n",
    "import math\n",
    "import cv2\n",
    "\n",
    "import numpy as np\n",
    "import matplotlib.pyplot as plt\n",
    "import ipywidgets as wd\n",
    "\n",
    "from IPython.display import display"
   ]
  },
  {
   "cell_type": "code",
   "execution_count": 2,
   "metadata": {
    "collapsed": true
   },
   "outputs": [],
   "source": [
    "plt.rcParams[\"figure.figsize\"] = [12, 8]"
   ]
  },
  {
   "cell_type": "code",
   "execution_count": 3,
   "metadata": {
    "collapsed": true
   },
   "outputs": [],
   "source": [
    "image_BGR = cv2.imread('/Users/yc/Downloads/IMG_1616.JPG', cv2.IMREAD_COLOR)\n",
    "image_RGB_f = cv2.cvtColor(image_BGR, cv2.COLOR_BGR2RGB).astype(np.float)\n",
    "image_HSV_f = cv2.cvtColor(image_BGR, cv2.COLOR_BGR2HSV).astype(np.float)\n",
    "\n",
    "def findMask_one_ps(image, sigma_color, color):\n",
    "    '''\n",
    "    依照 h s v 計算距離 輸出 0~1 代表與color相似度\n",
    "    '''\n",
    "    \n",
    "    dis = np.abs(image - color)\n",
    "    nor = dis * np.array([1.0 / 180, 1.0 / 255, 1.0 / 255])\n",
    "    \n",
    "    weights = np.array([20.0, 5.0, 1.0])\n",
    "    nor = np.sum(nor * weights, axis = 2) / np.sum(weights)\n",
    "    return 1 - nor\n",
    "\n",
    "def findMask_one_cv(image, sigma_color, color):\n",
    "    '''\n",
    "    依照 h s v 計算距離 輸出 0~1 代表與color相似度\n",
    "    '''\n",
    "    return cv2.inRange(image, color - sigma_color, color + sigma_color).astype(np.float) / 255.0\n",
    "\n",
    "def findMask(image, sigma_color, colors):\n",
    "    '''\n",
    "    params\n",
    "    ======\n",
    "    - image: image bitmap\n",
    "    - sigma_color: color space threshold\n",
    "    - colors: reference colors\n",
    "    \n",
    "    returns\n",
    "    =======\n",
    "    - mask: mask of selected pixels in [0, 1]\n",
    "    '''\n",
    "    mask_all = None\n",
    "    for color in colors:\n",
    "        \n",
    "        #mask = cv2.inRange(image, color - sigma_color, color + sigma_color)\n",
    "        mask = findMask_one_ps(image, sigma_color, color)\n",
    "        \n",
    "        if mask_all is None:\n",
    "            mask_all = mask\n",
    "        else:\n",
    "            mask_all = cv2.max(mask, mask_all)\n",
    "        \n",
    "    return mask_all"
   ]
  },
  {
   "cell_type": "code",
   "execution_count": 7,
   "metadata": {},
   "outputs": [
    {
     "data": {
      "application/vnd.jupyter.widget-view+json": {
       "model_id": "11c633c35a8e464d96d021c2acfaddca"
      }
     },
     "metadata": {},
     "output_type": "display_data"
    }
   ],
   "source": [
    "def pickColor(h, s, v):\n",
    "    select_color = np.array([h, s, v], dtype=np.float)\n",
    "    display_cube = cv2.cvtColor(select_color.reshape([1, 1, 3]).astype(np.uint8), cv2.COLOR_HSV2RGB)\n",
    "    \n",
    "    #colors = [select_color, \n",
    "              #np.array([5, 59, 255]),\n",
    "              #np.array([3, 99, 207]),\n",
    "              #np.array([3, 106, 94])]\n",
    "                \n",
    "    colors = [select_color]\n",
    "    \n",
    "    ret_image = image_HSV_f.copy()\n",
    "    mask = findMask(image_HSV_f, select_color, colors)\n",
    "    mask *= 0.3\n",
    "    mask = cv2.blur(mask, (7, 7))\n",
    "    \n",
    "    target = select_color\n",
    "    #target = np.array([3, 99, 207], dtype=np.float)\n",
    "    \n",
    "    #ret_image[:,:,2][mask > 0] = ((ret_image[:,:,2][mask > 0].astype(np.float) + 207) / 2).astype(np.uint8)\n",
    "    #ret_image[mask > 0] = ((ret_image[mask > 0].astype(np.float) + np.array([3, 99, 207])) / 2 ).astype(np.uint8)\n",
    "    #ret_image[mask > 0] = target\n",
    "    \n",
    "    ret_image[:,:,1] = mask * target[1] + (1 - mask) * ret_image[:,:,1]\n",
    "    ret_image[:,:,2] = mask * target[2] + (1 - mask) * ret_image[:,:,2]\n",
    "    \n",
    "    #plt.hist(mask.flatten(), bins=300)\n",
    "    #plt.show()\n",
    "    \n",
    "    ret_image = cv2.cvtColor(ret_image.astype(np.uint8), cv2.COLOR_HSV2RGB)\n",
    "    \n",
    "    number = 4\n",
    "    plt.subplot(1, number, 1); plt.imshow(display_cube)\n",
    "    plt.subplot(1, number, 2); plt.imshow((mask * 255).astype(np.uint8), cmap='gray', interpolation=None)\n",
    "    plt.subplot(1, number, 3); plt.imshow(ret_image)\n",
    "    plt.subplot(1, number, 4); plt.imshow(image_RGB_f.astype(np.uint8))\n",
    "    plt.show()\n",
    "\n",
    "h_slide_bar = wd.IntSlider(min=0, max=180, step=1, value=10)\n",
    "s_slide_bar = wd.IntSlider(min=0, max=255, step=1, value=100)\n",
    "v_slide_bar = wd.IntSlider(min=0, max=255, step=1, value=149)\n",
    "_ = wd.interact(pickColor, h=h_slide_bar, s=s_slide_bar, v=v_slide_bar)"
   ]
  },
  {
   "cell_type": "code",
   "execution_count": 5,
   "metadata": {
    "collapsed": true
   },
   "outputs": [],
   "source": [
    "# finite diff x\n",
    "# 控制項確定\n",
    "\n",
    "# mask 演算法\n",
    "# 臉部座位點 取法\n",
    "# 只調整v ?"
   ]
  },
  {
   "cell_type": "code",
   "execution_count": null,
   "metadata": {
    "collapsed": true
   },
   "outputs": [],
   "source": []
  }
 ],
 "metadata": {
  "kernelspec": {
   "display_name": "Python 3",
   "language": "python",
   "name": "python3"
  },
  "language_info": {
   "codemirror_mode": {
    "name": "ipython",
    "version": 3
   },
   "file_extension": ".py",
   "mimetype": "text/x-python",
   "name": "python",
   "nbconvert_exporter": "python",
   "pygments_lexer": "ipython3",
   "version": "3.6.1"
  }
 },
 "nbformat": 4,
 "nbformat_minor": 2
}
