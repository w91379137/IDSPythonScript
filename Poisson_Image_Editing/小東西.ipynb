{
 "cells": [
  {
   "cell_type": "code",
   "execution_count": 1,
   "metadata": {
    "collapsed": true
   },
   "outputs": [],
   "source": [
    "%matplotlib inline\n",
    "import cv2\n",
    "import matplotlib.pyplot as plt\n",
    "import math\n",
    "import numpy as np"
   ]
  },
  {
   "cell_type": "code",
   "execution_count": 13,
   "metadata": {
    "collapsed": false
   },
   "outputs": [],
   "source": [
    "def getGradientXp(img):\n",
    "    '''\n",
    "    期待輸入一個 w, h, 1\n",
    "    '''\n",
    "    width, height = img.shape\n",
    "    cat = cv2.repeat(img, 1, 2)\n",
    "    roimat = cat[:, 1: height + 1]\n",
    "    print roimat - img\n",
    "    \n",
    "#img = np.float32([[1,4], [2,5], [3,6]])\n",
    "#getGradientXp(img)"
   ]
  },
  {
   "cell_type": "code",
   "execution_count": 15,
   "metadata": {
    "collapsed": false
   },
   "outputs": [],
   "source": [
    "def getGradientYp(img):\n",
    "    '''\n",
    "    期待輸入一個 w, h, 1\n",
    "    '''\n",
    "    width, height = img.shape\n",
    "    cat = cv2.repeat(img, 2, 1)\n",
    "    roimat = cat[1: width + 1,:]\n",
    "    print roimat - img\n",
    "    \n",
    "#img = np.float32([[1,4], [2,5], [3,6]])\n",
    "#getGradientYp(img)"
   ]
  },
  {
   "cell_type": "code",
   "execution_count": null,
   "metadata": {
    "collapsed": true
   },
   "outputs": [],
   "source": []
  }
 ],
 "metadata": {
  "kernelspec": {
   "display_name": "Python 2",
   "language": "python",
   "name": "python2"
  },
  "language_info": {
   "codemirror_mode": {
    "name": "ipython",
    "version": 2
   },
   "file_extension": ".py",
   "mimetype": "text/x-python",
   "name": "python",
   "nbconvert_exporter": "python",
   "pygments_lexer": "ipython2",
   "version": "2.7.13"
  }
 },
 "nbformat": 4,
 "nbformat_minor": 2
}
