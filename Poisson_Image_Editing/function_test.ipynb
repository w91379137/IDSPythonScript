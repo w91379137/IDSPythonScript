{
 "cells": [
  {
   "cell_type": "code",
   "execution_count": 1,
   "metadata": {
    "collapsed": false,
    "deletable": true,
    "editable": true
   },
   "outputs": [],
   "source": [
    "%matplotlib inline\n",
    "import cv2\n",
    "import matplotlib.pyplot as plt\n",
    "import math\n",
    "import numpy as np\n",
    "\n",
    "from function import *"
   ]
  },
  {
   "cell_type": "code",
   "execution_count": 2,
   "metadata": {
    "collapsed": false,
    "deletable": true,
    "editable": true
   },
   "outputs": [
    {
     "name": "stdout",
     "output_type": "stream",
     "text": [
      "[[  0.   0.   0.   0.   0.   0.   0.]\n",
      " [  0.   0.   0.  -5.   0.   0.   0.]\n",
      " [  0.   0. -10.  10. -10.   0.   0.]\n",
      " [  0.  -5.  10.  20.  10.  -5.   0.]\n",
      " [  0.   0. -10.  10. -10.   0.   0.]\n",
      " [  0.   0.   0.  -5.   0.   0.   0.]\n",
      " [  0.   0.   0.   0.   0.   0.   0.]]\n"
     ]
    }
   ],
   "source": [
    "img = np.full((7, 7), 0, np.uint8)\n",
    "\n",
    "img[2, 3] = 5\n",
    "img[4, 3] = 5\n",
    "img[3, 3] = 10\n",
    "img[3, 2] = 5\n",
    "img[3, 4] = 5\n",
    "\n",
    "img_divergence = divergence(img)\n",
    "print divergence(img)"
   ]
  },
  {
   "cell_type": "code",
   "execution_count": 3,
   "metadata": {
    "collapsed": false,
    "deletable": true,
    "editable": true
   },
   "outputs": [
    {
     "name": "stdout",
     "output_type": "stream",
     "text": [
      "[[ 0  0  0  0  0  0  0]\n",
      " [ 0  0  0  0  0  0  0]\n",
      " [ 0  0  0  5  0  0  0]\n",
      " [ 0  0  5 10  5  0  0]\n",
      " [ 0  0  0  5  0  0  0]\n",
      " [ 0  0  0  0  0  0  0]\n",
      " [ 0  0  0  0  0  0  0]]\n"
     ]
    }
   ],
   "source": [
    "print solve_image_1(img, img_divergence)"
   ]
  },
  {
   "cell_type": "code",
   "execution_count": 4,
   "metadata": {
    "collapsed": true,
    "deletable": true,
    "editable": true
   },
   "outputs": [],
   "source": [
    "def solve_image_3(img_target, img_div, img_mask):\n",
    "    \n",
    "    w, h = img_div.shape\n",
    "    A = np.zeros((w * h, w * h), np.float32) #計算用的矩陣\n",
    "    y = np.zeros((w * h), np.float32)\n",
    "    \n",
    "    for idx_h in range(h):\n",
    "        for idx_w in range(w):\n",
    "            \n",
    "            idx_row = idx_w + idx_h * w\n",
    "            row = np.zeros((w * h), np.float32) #要填入 0 -1 4\n",
    "            \n",
    "            if idx_w == 0 or idx_w == w - 1 or idx_h == 0 or idx_h == h - 1:\n",
    "                #邊界\n",
    "                y[idx_row] = img_target[idx_w, idx_h]\n",
    "                row[idx_row] = 1\n",
    "            elif img_mask[idx_w, idx_h] == 0:\n",
    "                y[idx_row] = img_target[idx_w, idx_h]\n",
    "                row[idx_row] = 1\n",
    "            else:\n",
    "                #中間\n",
    "                y[idx_row] = img_div[idx_w, idx_h]\n",
    "                row[idx_row - w] = -1\n",
    "                row[idx_row - 1] = -1\n",
    "                row[idx_row] = 4\n",
    "                row[idx_row + 1] = -1\n",
    "                row[idx_row + w] = -1\n",
    "                \n",
    "            A[idx_row, :] = row\n",
    "        \n",
    "    #求x\n",
    "    x = np.zeros((w * h))\n",
    "    _, x = cv2.solve(A, y, x, cv2.DECOMP_SVD)\n",
    "    \n",
    "    ans = img_target.copy()\n",
    "    for idx_h in range(h):\n",
    "        for idx_w in range(w):\n",
    "            idx_row = idx_w + idx_h * w\n",
    "            ans[idx_w, idx_h] = min(max(x[idx_row], 0), 255)\n",
    "    \n",
    "    return ans.astype(np.uint8)"
   ]
  },
  {
   "cell_type": "code",
   "execution_count": 5,
   "metadata": {
    "collapsed": false,
    "deletable": true,
    "editable": true
   },
   "outputs": [
    {
     "name": "stdout",
     "output_type": "stream",
     "text": [
      "[[ 0  0  0  0  0  0  0]\n",
      " [ 0  0  0  0  0  0  0]\n",
      " [ 0  0  0  5  0  0  0]\n",
      " [ 0  0  5 10  5  0  0]\n",
      " [ 0  0  0  5  0  0  0]\n",
      " [ 0  0  0  0  0  0  0]\n",
      " [ 0  0  0  0  0  0  0]]\n"
     ]
    }
   ],
   "source": [
    "print solve_image_3(img, img_divergence, np.ones(img.shape))"
   ]
  },
  {
   "cell_type": "code",
   "execution_count": 6,
   "metadata": {
    "collapsed": false,
    "deletable": true,
    "editable": true
   },
   "outputs": [
    {
     "data": {
      "image/png": "[encoded data removed]",
      "text/plain": [
       "<matplotlib.figure.Figure at 0x1120d2550>"
      ]
     },
     "metadata": {},
     "output_type": "display_data"
    }
   ],
   "source": [
    "img_source = cv2.cvtColor(cv2.imread('./ignore/face.JPG'), cv2.COLOR_BGR2RGB).astype(np.uint8)\n",
    "img_source = cv2.resize(img_source, (0,0), fx=0.25, fy=0.25)\n",
    "plt.imshow(img_source)\n",
    "plt.show()"
   ]
  },
  {
   "cell_type": "code",
   "execution_count": 7,
   "metadata": {
    "collapsed": false,
    "deletable": true,
    "editable": true
   },
   "outputs": [
    {
     "data": {
      "image/png": "[encoded data removed]",
      "text/plain": [
       "<matplotlib.figure.Figure at 0x1159c6fd0>"
      ]
     },
     "metadata": {},
     "output_type": "display_data"
    }
   ],
   "source": [
    "ans = auto_mask(img_source)\n",
    "plt.imshow(ans)\n",
    "plt.show()"
   ]
  },
  {
   "cell_type": "code",
   "execution_count": null,
   "metadata": {
    "collapsed": true
   },
   "outputs": [],
   "source": []
  }
 ],
 "metadata": {
  "kernelspec": {
   "display_name": "Python 2",
   "language": "python",
   "name": "python2"
  },
  "language_info": {
   "codemirror_mode": {
    "name": "ipython",
    "version": 2
   },
   "file_extension": ".py",
   "mimetype": "text/x-python",
   "name": "python",
   "nbconvert_exporter": "python",
   "pygments_lexer": "ipython2",
   "version": "2.7.13"
  }
 },
 "nbformat": 4,
 "nbformat_minor": 2
}
