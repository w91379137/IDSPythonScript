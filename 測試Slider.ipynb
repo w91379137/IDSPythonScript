{
 "cells": [
  {
   "cell_type": "code",
   "execution_count": 1,
   "metadata": {
    "collapsed": true
   },
   "outputs": [],
   "source": [
    "%matplotlib inline\n",
    "\n",
    "import math\n",
    "import cv2\n",
    "\n",
    "import numpy as np\n",
    "import matplotlib.pyplot as plt\n",
    "import ipywidgets as wd\n",
    "\n",
    "from IPython.display import display"
   ]
  },
  {
   "cell_type": "code",
   "execution_count": 2,
   "metadata": {},
   "outputs": [],
   "source": [
    "read = cv2.imread('/Users/yc/Downloads/IMG_1645.JPG', cv2.IMREAD_COLOR)\n",
    "original_image = cv2.cvtColor(read, cv2.COLOR_BGR2RGB)\n",
    "\n",
    "def findMask_one(image, sigma_color, color):\n",
    "    '''\n",
    "    params\n",
    "    ======\n",
    "    - image: image bitmap\n",
    "    - sigma_color: color space threshold\n",
    "    - color: reference color\n",
    "    \n",
    "    returns\n",
    "    =======\n",
    "    - mask: mask of selected pixels\n",
    "    ''' \n",
    "    return cv2.inRange(image, color - 15, color + 15)\n",
    "\n",
    "def findMask_All(image, sigma_color, colors):\n",
    "    '''\n",
    "    params\n",
    "    ======\n",
    "    - image: image bitmap\n",
    "    - sigma_color: color space threshold\n",
    "    - colors: reference colors\n",
    "    \n",
    "    returns\n",
    "    =======\n",
    "    - mask: mask of selected pixels\n",
    "    '''\n",
    "    pass"
   ]
  },
  {
   "cell_type": "code",
   "execution_count": 3,
   "metadata": {},
   "outputs": [
    {
     "name": "stderr",
     "output_type": "stream",
     "text": [
      "Widget Javascript not detected.  It may not be installed or enabled properly.\n"
     ]
    },
    {
     "data": {
      "application/vnd.jupyter.widget-view+json": {
       "model_id": "9e4036dd4a93447f8decb5aaf15800c7"
      }
     },
     "metadata": {},
     "output_type": "display_data"
    }
   ],
   "source": [
    "def pickColor(r, g, b):\n",
    "    select_color = np.array([r, g, b])\n",
    "    display_cube = select_color.reshape([1, 1, 3]).astype(np.uint8)\n",
    "    \n",
    "    plt.subplot(1, 2, 1)\n",
    "    plt.imshow(display_cube)\n",
    "    plt.show()\n",
    "    \n",
    "    ret_image = original_image.copy()\n",
    "    ret_image[findMask_one(original_image, None, select_color) == 0] = 0\n",
    "    \n",
    "    plt.subplot(1, 2, 2)\n",
    "    plt.imshow(ret_image)\n",
    "    plt.show()\n",
    "\n",
    "r_slide_bar = wd.IntSlider(min=0, max=255, step=1, value=255)\n",
    "g_slide_bar = wd.IntSlider(min=0, max=255, step=1, value=210)\n",
    "b_slide_bar = wd.IntSlider(min=0, max=255, step=1, value=200)\n",
    "_ = wd.interact(pickColor, r=r_slide_bar, g=g_slide_bar, b=b_slide_bar)"
   ]
  }
 ],
 "metadata": {
  "kernelspec": {
   "display_name": "Python 3",
   "language": "python",
   "name": "python3"
  },
  "language_info": {
   "codemirror_mode": {
    "name": "ipython",
    "version": 3
   },
   "file_extension": ".py",
   "mimetype": "text/x-python",
   "name": "python",
   "nbconvert_exporter": "python",
   "pygments_lexer": "ipython3",
   "version": "3.6.1"
  }
 },
 "nbformat": 4,
 "nbformat_minor": 2
}
